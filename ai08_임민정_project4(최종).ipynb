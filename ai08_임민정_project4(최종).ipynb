{
  "cells": [
    {
      "cell_type": "markdown",
      "source": [
        "# 0. 들어가며"
      ],
      "metadata": {
        "id": "4M0gyh9Tk_vw"
      }
    },
    {
      "cell_type": "markdown",
      "source": [
        "🌎 국정 모니터링지표를 알려주는 [e-나라지표](https://www.index.go.kr/potal/main/EachDtlPageDetail.do?idx_cd=2455)의 10대 수출입 품목 중 1996년부터 2020년까지의 수입품목 **가장 많은 횟수동안 1위인 품목은 \"원유\"**입니다.\n",
        "\n",
        "- (원유 22회, 반도체 3회)\n",
        "\n",
        "➡️ 🛢 수년간 우리나라의 수입품목의 큰 비중을 차지하는 원유의 가격을 예측하고, 미국과 한국에서 거래되는 유가 관련 주식가격의 추세가 비슷한지 알아보고자 합니다."
      ],
      "metadata": {
        "id": "QBbGs5Osptzn"
      }
    },
    {
      "cell_type": "code",
      "execution_count": 2,
      "metadata": {
        "colab": {
          "base_uri": "https://localhost:8080/"
        },
        "id": "9CcKMvt61TcD",
        "outputId": "04611063-0550-4be7-bf06-ea86ab87f51f"
      },
      "outputs": [
        {
          "output_type": "stream",
          "name": "stdout",
          "text": [
            "Mounted at /content/drive\n"
          ]
        }
      ],
      "source": [
        "# 코랩일때 실행함\n",
        "from google.colab import drive\n",
        "drive.mount('/content/drive')"
      ]
    },
    {
      "cell_type": "code",
      "source": [
        "import pandas as pd\n",
        "data = pd.read_excel(\"/content/drive/MyDrive/Colab Notebooks/codestates/section4 project/e나라지표_수입현황.xls\")\n",
        "data.head()"
      ],
      "metadata": {
        "colab": {
          "base_uri": "https://localhost:8080/",
          "height": 353
        },
        "id": "xjZsjM9qnh6W",
        "outputId": "efea6c6d-8bc3-467e-89f5-b25e20e79e82"
      },
      "execution_count": 3,
      "outputs": [
        {
          "output_type": "execute_result",
          "data": {
            "text/html": [
              "\n",
              "  <div id=\"df-63796ed8-c0e5-4ad5-b37b-817fff35ba5a\">\n",
              "    <div class=\"colab-df-container\">\n",
              "      <div>\n",
              "<style scoped>\n",
              "    .dataframe tbody tr th:only-of-type {\n",
              "        vertical-align: middle;\n",
              "    }\n",
              "\n",
              "    .dataframe tbody tr th {\n",
              "        vertical-align: top;\n",
              "    }\n",
              "\n",
              "    .dataframe thead th {\n",
              "        text-align: right;\n",
              "    }\n",
              "</style>\n",
              "<table border=\"1\" class=\"dataframe\">\n",
              "  <thead>\n",
              "    <tr style=\"text-align: right;\">\n",
              "      <th></th>\n",
              "      <th>통계표명:</th>\n",
              "      <th>10대 수입품목</th>\n",
              "      <th>Unnamed: 2</th>\n",
              "      <th>Unnamed: 3</th>\n",
              "      <th>Unnamed: 4</th>\n",
              "      <th>Unnamed: 5</th>\n",
              "      <th>Unnamed: 6</th>\n",
              "      <th>Unnamed: 7</th>\n",
              "      <th>Unnamed: 8</th>\n",
              "      <th>Unnamed: 9</th>\n",
              "      <th>Unnamed: 10</th>\n",
              "      <th>Unnamed: 11</th>\n",
              "      <th>Unnamed: 12</th>\n",
              "      <th>Unnamed: 13</th>\n",
              "      <th>Unnamed: 14</th>\n",
              "      <th>Unnamed: 15</th>\n",
              "      <th>Unnamed: 16</th>\n",
              "      <th>Unnamed: 17</th>\n",
              "      <th>Unnamed: 18</th>\n",
              "      <th>Unnamed: 19</th>\n",
              "      <th>Unnamed: 20</th>\n",
              "      <th>Unnamed: 21</th>\n",
              "      <th>Unnamed: 22</th>\n",
              "      <th>Unnamed: 23</th>\n",
              "      <th>Unnamed: 24</th>\n",
              "      <th>Unnamed: 25</th>\n",
              "      <th>Unnamed: 26</th>\n",
              "      <th>Unnamed: 27</th>\n",
              "      <th>Unnamed: 28</th>\n",
              "      <th>Unnamed: 29</th>\n",
              "      <th>Unnamed: 30</th>\n",
              "      <th>Unnamed: 31</th>\n",
              "      <th>Unnamed: 32</th>\n",
              "      <th>Unnamed: 33</th>\n",
              "      <th>Unnamed: 34</th>\n",
              "      <th>Unnamed: 35</th>\n",
              "      <th>Unnamed: 36</th>\n",
              "      <th>Unnamed: 37</th>\n",
              "      <th>Unnamed: 38</th>\n",
              "      <th>Unnamed: 39</th>\n",
              "      <th>Unnamed: 40</th>\n",
              "      <th>Unnamed: 41</th>\n",
              "      <th>Unnamed: 42</th>\n",
              "      <th>Unnamed: 43</th>\n",
              "      <th>Unnamed: 44</th>\n",
              "      <th>Unnamed: 45</th>\n",
              "      <th>Unnamed: 46</th>\n",
              "      <th>Unnamed: 47</th>\n",
              "      <th>Unnamed: 48</th>\n",
              "      <th>Unnamed: 49</th>\n",
              "      <th>Unnamed: 50</th>\n",
              "    </tr>\n",
              "  </thead>\n",
              "  <tbody>\n",
              "    <tr>\n",
              "      <th>0</th>\n",
              "      <td>단위:</td>\n",
              "      <td>백만불</td>\n",
              "      <td>NaN</td>\n",
              "      <td>NaN</td>\n",
              "      <td>NaN</td>\n",
              "      <td>NaN</td>\n",
              "      <td>NaN</td>\n",
              "      <td>NaN</td>\n",
              "      <td>NaN</td>\n",
              "      <td>NaN</td>\n",
              "      <td>NaN</td>\n",
              "      <td>NaN</td>\n",
              "      <td>NaN</td>\n",
              "      <td>NaN</td>\n",
              "      <td>NaN</td>\n",
              "      <td>NaN</td>\n",
              "      <td>NaN</td>\n",
              "      <td>NaN</td>\n",
              "      <td>NaN</td>\n",
              "      <td>NaN</td>\n",
              "      <td>NaN</td>\n",
              "      <td>NaN</td>\n",
              "      <td>NaN</td>\n",
              "      <td>NaN</td>\n",
              "      <td>NaN</td>\n",
              "      <td>NaN</td>\n",
              "      <td>NaN</td>\n",
              "      <td>NaN</td>\n",
              "      <td>NaN</td>\n",
              "      <td>NaN</td>\n",
              "      <td>NaN</td>\n",
              "      <td>NaN</td>\n",
              "      <td>NaN</td>\n",
              "      <td>NaN</td>\n",
              "      <td>NaN</td>\n",
              "      <td>NaN</td>\n",
              "      <td>NaN</td>\n",
              "      <td>NaN</td>\n",
              "      <td>NaN</td>\n",
              "      <td>NaN</td>\n",
              "      <td>NaN</td>\n",
              "      <td>NaN</td>\n",
              "      <td>NaN</td>\n",
              "      <td>NaN</td>\n",
              "      <td>NaN</td>\n",
              "      <td>NaN</td>\n",
              "      <td>NaN</td>\n",
              "      <td>NaN</td>\n",
              "      <td>NaN</td>\n",
              "      <td>NaN</td>\n",
              "      <td>NaN</td>\n",
              "    </tr>\n",
              "    <tr>\n",
              "      <th>1</th>\n",
              "      <td>NaN</td>\n",
              "      <td>1996</td>\n",
              "      <td>NaN</td>\n",
              "      <td>1997</td>\n",
              "      <td>NaN</td>\n",
              "      <td>1998</td>\n",
              "      <td>NaN</td>\n",
              "      <td>1999</td>\n",
              "      <td>NaN</td>\n",
              "      <td>2000</td>\n",
              "      <td>NaN</td>\n",
              "      <td>2001</td>\n",
              "      <td>NaN</td>\n",
              "      <td>2002</td>\n",
              "      <td>NaN</td>\n",
              "      <td>2003</td>\n",
              "      <td>NaN</td>\n",
              "      <td>2004</td>\n",
              "      <td>NaN</td>\n",
              "      <td>2005</td>\n",
              "      <td>NaN</td>\n",
              "      <td>2006</td>\n",
              "      <td>NaN</td>\n",
              "      <td>2007</td>\n",
              "      <td>NaN</td>\n",
              "      <td>2008</td>\n",
              "      <td>NaN</td>\n",
              "      <td>2009</td>\n",
              "      <td>NaN</td>\n",
              "      <td>2010</td>\n",
              "      <td>NaN</td>\n",
              "      <td>2011</td>\n",
              "      <td>NaN</td>\n",
              "      <td>2012</td>\n",
              "      <td>NaN</td>\n",
              "      <td>2013</td>\n",
              "      <td>NaN</td>\n",
              "      <td>2014</td>\n",
              "      <td>NaN</td>\n",
              "      <td>2015</td>\n",
              "      <td>NaN</td>\n",
              "      <td>2016</td>\n",
              "      <td>NaN</td>\n",
              "      <td>2017</td>\n",
              "      <td>NaN</td>\n",
              "      <td>2018</td>\n",
              "      <td>NaN</td>\n",
              "      <td>2019</td>\n",
              "      <td>NaN</td>\n",
              "      <td>2020</td>\n",
              "      <td>NaN</td>\n",
              "    </tr>\n",
              "    <tr>\n",
              "      <th>2</th>\n",
              "      <td>NaN</td>\n",
              "      <td>품목명</td>\n",
              "      <td>금액</td>\n",
              "      <td>품목명</td>\n",
              "      <td>금액</td>\n",
              "      <td>품목명</td>\n",
              "      <td>금액</td>\n",
              "      <td>품목명</td>\n",
              "      <td>금액</td>\n",
              "      <td>품목명</td>\n",
              "      <td>금액</td>\n",
              "      <td>품목명</td>\n",
              "      <td>금액</td>\n",
              "      <td>품목명</td>\n",
              "      <td>금액</td>\n",
              "      <td>품목명</td>\n",
              "      <td>금액</td>\n",
              "      <td>품목명</td>\n",
              "      <td>금액</td>\n",
              "      <td>품목명</td>\n",
              "      <td>금액</td>\n",
              "      <td>품목명</td>\n",
              "      <td>금액</td>\n",
              "      <td>품목명</td>\n",
              "      <td>금액</td>\n",
              "      <td>품목명</td>\n",
              "      <td>금액</td>\n",
              "      <td>품목명</td>\n",
              "      <td>금액</td>\n",
              "      <td>품목명</td>\n",
              "      <td>금액</td>\n",
              "      <td>품목명</td>\n",
              "      <td>금액</td>\n",
              "      <td>품목명</td>\n",
              "      <td>금액</td>\n",
              "      <td>품목명</td>\n",
              "      <td>금액</td>\n",
              "      <td>품목명</td>\n",
              "      <td>금액</td>\n",
              "      <td>품목명</td>\n",
              "      <td>금액</td>\n",
              "      <td>품목명</td>\n",
              "      <td>금액</td>\n",
              "      <td>품목명</td>\n",
              "      <td>금액</td>\n",
              "      <td>품목명</td>\n",
              "      <td>금액</td>\n",
              "      <td>품목명</td>\n",
              "      <td>금액</td>\n",
              "      <td>품목명</td>\n",
              "      <td>금액</td>\n",
              "    </tr>\n",
              "    <tr>\n",
              "      <th>3</th>\n",
              "      <td>1위</td>\n",
              "      <td>원유</td>\n",
              "      <td>14,432</td>\n",
              "      <td>원유</td>\n",
              "      <td>17,772</td>\n",
              "      <td>반도체</td>\n",
              "      <td>12,244</td>\n",
              "      <td>반도체</td>\n",
              "      <td>16,059</td>\n",
              "      <td>원유</td>\n",
              "      <td>25,216</td>\n",
              "      <td>원유</td>\n",
              "      <td>21,368</td>\n",
              "      <td>원유</td>\n",
              "      <td>19,200</td>\n",
              "      <td>원유</td>\n",
              "      <td>23,082</td>\n",
              "      <td>원유</td>\n",
              "      <td>29,917</td>\n",
              "      <td>원유</td>\n",
              "      <td>42,606</td>\n",
              "      <td>원유</td>\n",
              "      <td>55,959</td>\n",
              "      <td>원유</td>\n",
              "      <td>60,324</td>\n",
              "      <td>원유</td>\n",
              "      <td>85,855</td>\n",
              "      <td>원유</td>\n",
              "      <td>50,757</td>\n",
              "      <td>원유</td>\n",
              "      <td>68,662</td>\n",
              "      <td>원유</td>\n",
              "      <td>100,806</td>\n",
              "      <td>원유</td>\n",
              "      <td>108,298</td>\n",
              "      <td>원유</td>\n",
              "      <td>99,333</td>\n",
              "      <td>원유</td>\n",
              "      <td>94,907</td>\n",
              "      <td>원유</td>\n",
              "      <td>55,120</td>\n",
              "      <td>원유</td>\n",
              "      <td>44,295</td>\n",
              "      <td>원유</td>\n",
              "      <td>59,603</td>\n",
              "      <td>원유</td>\n",
              "      <td>80,393</td>\n",
              "      <td>원유</td>\n",
              "      <td>70,252</td>\n",
              "      <td>반도체</td>\n",
              "      <td>50,283</td>\n",
              "    </tr>\n",
              "    <tr>\n",
              "      <th>4</th>\n",
              "      <td>2위</td>\n",
              "      <td>반도체</td>\n",
              "      <td>10,524</td>\n",
              "      <td>반도체</td>\n",
              "      <td>12,877</td>\n",
              "      <td>원유</td>\n",
              "      <td>11,241</td>\n",
              "      <td>원유</td>\n",
              "      <td>14,783</td>\n",
              "      <td>반도체</td>\n",
              "      <td>19,923</td>\n",
              "      <td>반도체</td>\n",
              "      <td>15,547</td>\n",
              "      <td>반도체</td>\n",
              "      <td>17,476</td>\n",
              "      <td>반도체</td>\n",
              "      <td>21,328</td>\n",
              "      <td>반도체</td>\n",
              "      <td>23,618</td>\n",
              "      <td>반도체</td>\n",
              "      <td>25,133</td>\n",
              "      <td>반도체</td>\n",
              "      <td>26,382</td>\n",
              "      <td>반도체</td>\n",
              "      <td>25,329</td>\n",
              "      <td>반도체</td>\n",
              "      <td>32,018</td>\n",
              "      <td>반도체</td>\n",
              "      <td>26,619</td>\n",
              "      <td>반도체</td>\n",
              "      <td>32,081</td>\n",
              "      <td>반도체</td>\n",
              "      <td>32,483</td>\n",
              "      <td>반도체</td>\n",
              "      <td>32,242</td>\n",
              "      <td>반도체</td>\n",
              "      <td>34,619</td>\n",
              "      <td>반도체</td>\n",
              "      <td>36,399</td>\n",
              "      <td>반도체</td>\n",
              "      <td>38,203</td>\n",
              "      <td>반도체</td>\n",
              "      <td>36,557</td>\n",
              "      <td>반도체</td>\n",
              "      <td>41,177</td>\n",
              "      <td>반도체</td>\n",
              "      <td>44,728</td>\n",
              "      <td>반도체</td>\n",
              "      <td>47,032</td>\n",
              "      <td>원유</td>\n",
              "      <td>44,456</td>\n",
              "    </tr>\n",
              "  </tbody>\n",
              "</table>\n",
              "</div>\n",
              "      <button class=\"colab-df-convert\" onclick=\"convertToInteractive('df-63796ed8-c0e5-4ad5-b37b-817fff35ba5a')\"\n",
              "              title=\"Convert this dataframe to an interactive table.\"\n",
              "              style=\"display:none;\">\n",
              "        \n",
              "  <svg xmlns=\"http://www.w3.org/2000/svg\" height=\"24px\"viewBox=\"0 0 24 24\"\n",
              "       width=\"24px\">\n",
              "    <path d=\"M0 0h24v24H0V0z\" fill=\"none\"/>\n",
              "    <path d=\"M18.56 5.44l.94 2.06.94-2.06 2.06-.94-2.06-.94-.94-2.06-.94 2.06-2.06.94zm-11 1L8.5 8.5l.94-2.06 2.06-.94-2.06-.94L8.5 2.5l-.94 2.06-2.06.94zm10 10l.94 2.06.94-2.06 2.06-.94-2.06-.94-.94-2.06-.94 2.06-2.06.94z\"/><path d=\"M17.41 7.96l-1.37-1.37c-.4-.4-.92-.59-1.43-.59-.52 0-1.04.2-1.43.59L10.3 9.45l-7.72 7.72c-.78.78-.78 2.05 0 2.83L4 21.41c.39.39.9.59 1.41.59.51 0 1.02-.2 1.41-.59l7.78-7.78 2.81-2.81c.8-.78.8-2.07 0-2.86zM5.41 20L4 18.59l7.72-7.72 1.47 1.35L5.41 20z\"/>\n",
              "  </svg>\n",
              "      </button>\n",
              "      \n",
              "  <style>\n",
              "    .colab-df-container {\n",
              "      display:flex;\n",
              "      flex-wrap:wrap;\n",
              "      gap: 12px;\n",
              "    }\n",
              "\n",
              "    .colab-df-convert {\n",
              "      background-color: #E8F0FE;\n",
              "      border: none;\n",
              "      border-radius: 50%;\n",
              "      cursor: pointer;\n",
              "      display: none;\n",
              "      fill: #1967D2;\n",
              "      height: 32px;\n",
              "      padding: 0 0 0 0;\n",
              "      width: 32px;\n",
              "    }\n",
              "\n",
              "    .colab-df-convert:hover {\n",
              "      background-color: #E2EBFA;\n",
              "      box-shadow: 0px 1px 2px rgba(60, 64, 67, 0.3), 0px 1px 3px 1px rgba(60, 64, 67, 0.15);\n",
              "      fill: #174EA6;\n",
              "    }\n",
              "\n",
              "    [theme=dark] .colab-df-convert {\n",
              "      background-color: #3B4455;\n",
              "      fill: #D2E3FC;\n",
              "    }\n",
              "\n",
              "    [theme=dark] .colab-df-convert:hover {\n",
              "      background-color: #434B5C;\n",
              "      box-shadow: 0px 1px 3px 1px rgba(0, 0, 0, 0.15);\n",
              "      filter: drop-shadow(0px 1px 2px rgba(0, 0, 0, 0.3));\n",
              "      fill: #FFFFFF;\n",
              "    }\n",
              "  </style>\n",
              "\n",
              "      <script>\n",
              "        const buttonEl =\n",
              "          document.querySelector('#df-63796ed8-c0e5-4ad5-b37b-817fff35ba5a button.colab-df-convert');\n",
              "        buttonEl.style.display =\n",
              "          google.colab.kernel.accessAllowed ? 'block' : 'none';\n",
              "\n",
              "        async function convertToInteractive(key) {\n",
              "          const element = document.querySelector('#df-63796ed8-c0e5-4ad5-b37b-817fff35ba5a');\n",
              "          const dataTable =\n",
              "            await google.colab.kernel.invokeFunction('convertToInteractive',\n",
              "                                                     [key], {});\n",
              "          if (!dataTable) return;\n",
              "\n",
              "          const docLinkHtml = 'Like what you see? Visit the ' +\n",
              "            '<a target=\"_blank\" href=https://colab.research.google.com/notebooks/data_table.ipynb>data table notebook</a>'\n",
              "            + ' to learn more about interactive tables.';\n",
              "          element.innerHTML = '';\n",
              "          dataTable['output_type'] = 'display_data';\n",
              "          await google.colab.output.renderOutput(dataTable, element);\n",
              "          const docLink = document.createElement('div');\n",
              "          docLink.innerHTML = docLinkHtml;\n",
              "          element.appendChild(docLink);\n",
              "        }\n",
              "      </script>\n",
              "    </div>\n",
              "  </div>\n",
              "  "
            ],
            "text/plain": [
              "  통계표명: 10대 수입품목 Unnamed: 2  ... Unnamed: 48 Unnamed: 49 Unnamed: 50\n",
              "0   단위:      백만불        NaN  ...         NaN         NaN         NaN\n",
              "1   NaN     1996        NaN  ...         NaN        2020         NaN\n",
              "2   NaN      품목명         금액  ...          금액         품목명          금액\n",
              "3    1위       원유     14,432  ...      70,252         반도체      50,283\n",
              "4    2위      반도체     10,524  ...      47,032          원유      44,456\n",
              "\n",
              "[5 rows x 51 columns]"
            ]
          },
          "metadata": {},
          "execution_count": 3
        }
      ]
    },
    {
      "cell_type": "code",
      "source": [
        "new_col = ['순위']\n",
        "for year in range(1996, 2021):\n",
        "    new_col.append(f'{year}년')\n",
        "    new_col.append('가격')\n",
        "print(new_col)"
      ],
      "metadata": {
        "colab": {
          "base_uri": "https://localhost:8080/"
        },
        "id": "ChK6CZOSpBsR",
        "outputId": "96c606ed-a6d6-421a-cde3-f38c3b8f82b6"
      },
      "execution_count": 4,
      "outputs": [
        {
          "output_type": "stream",
          "name": "stdout",
          "text": [
            "['순위', '1996년', '가격', '1997년', '가격', '1998년', '가격', '1999년', '가격', '2000년', '가격', '2001년', '가격', '2002년', '가격', '2003년', '가격', '2004년', '가격', '2005년', '가격', '2006년', '가격', '2007년', '가격', '2008년', '가격', '2009년', '가격', '2010년', '가격', '2011년', '가격', '2012년', '가격', '2013년', '가격', '2014년', '가격', '2015년', '가격', '2016년', '가격', '2017년', '가격', '2018년', '가격', '2019년', '가격', '2020년', '가격']\n"
          ]
        }
      ]
    },
    {
      "cell_type": "code",
      "source": [
        "data.columns = new_col"
      ],
      "metadata": {
        "id": "-Jk2uGjRoa3y"
      },
      "execution_count": 5,
      "outputs": []
    },
    {
      "cell_type": "code",
      "source": [
        "rank_1 = data.iloc[3:4,:]\n",
        "rank_1"
      ],
      "metadata": {
        "colab": {
          "base_uri": "https://localhost:8080/",
          "height": 178
        },
        "id": "H-qkmpCFn5Dd",
        "outputId": "fe0633df-93b6-478f-ff81-791e8aa45115"
      },
      "execution_count": 6,
      "outputs": [
        {
          "output_type": "execute_result",
          "data": {
            "text/html": [
              "\n",
              "  <div id=\"df-4da04a85-0db1-4701-a087-2f272d2b53a9\">\n",
              "    <div class=\"colab-df-container\">\n",
              "      <div>\n",
              "<style scoped>\n",
              "    .dataframe tbody tr th:only-of-type {\n",
              "        vertical-align: middle;\n",
              "    }\n",
              "\n",
              "    .dataframe tbody tr th {\n",
              "        vertical-align: top;\n",
              "    }\n",
              "\n",
              "    .dataframe thead th {\n",
              "        text-align: right;\n",
              "    }\n",
              "</style>\n",
              "<table border=\"1\" class=\"dataframe\">\n",
              "  <thead>\n",
              "    <tr style=\"text-align: right;\">\n",
              "      <th></th>\n",
              "      <th>순위</th>\n",
              "      <th>1996년</th>\n",
              "      <th>가격</th>\n",
              "      <th>1997년</th>\n",
              "      <th>가격</th>\n",
              "      <th>1998년</th>\n",
              "      <th>가격</th>\n",
              "      <th>1999년</th>\n",
              "      <th>가격</th>\n",
              "      <th>2000년</th>\n",
              "      <th>가격</th>\n",
              "      <th>2001년</th>\n",
              "      <th>가격</th>\n",
              "      <th>2002년</th>\n",
              "      <th>가격</th>\n",
              "      <th>2003년</th>\n",
              "      <th>가격</th>\n",
              "      <th>2004년</th>\n",
              "      <th>가격</th>\n",
              "      <th>2005년</th>\n",
              "      <th>가격</th>\n",
              "      <th>2006년</th>\n",
              "      <th>가격</th>\n",
              "      <th>2007년</th>\n",
              "      <th>가격</th>\n",
              "      <th>2008년</th>\n",
              "      <th>가격</th>\n",
              "      <th>2009년</th>\n",
              "      <th>가격</th>\n",
              "      <th>2010년</th>\n",
              "      <th>가격</th>\n",
              "      <th>2011년</th>\n",
              "      <th>가격</th>\n",
              "      <th>2012년</th>\n",
              "      <th>가격</th>\n",
              "      <th>2013년</th>\n",
              "      <th>가격</th>\n",
              "      <th>2014년</th>\n",
              "      <th>가격</th>\n",
              "      <th>2015년</th>\n",
              "      <th>가격</th>\n",
              "      <th>2016년</th>\n",
              "      <th>가격</th>\n",
              "      <th>2017년</th>\n",
              "      <th>가격</th>\n",
              "      <th>2018년</th>\n",
              "      <th>가격</th>\n",
              "      <th>2019년</th>\n",
              "      <th>가격</th>\n",
              "      <th>2020년</th>\n",
              "      <th>가격</th>\n",
              "    </tr>\n",
              "  </thead>\n",
              "  <tbody>\n",
              "    <tr>\n",
              "      <th>3</th>\n",
              "      <td>1위</td>\n",
              "      <td>원유</td>\n",
              "      <td>14,432</td>\n",
              "      <td>원유</td>\n",
              "      <td>17,772</td>\n",
              "      <td>반도체</td>\n",
              "      <td>12,244</td>\n",
              "      <td>반도체</td>\n",
              "      <td>16,059</td>\n",
              "      <td>원유</td>\n",
              "      <td>25,216</td>\n",
              "      <td>원유</td>\n",
              "      <td>21,368</td>\n",
              "      <td>원유</td>\n",
              "      <td>19,200</td>\n",
              "      <td>원유</td>\n",
              "      <td>23,082</td>\n",
              "      <td>원유</td>\n",
              "      <td>29,917</td>\n",
              "      <td>원유</td>\n",
              "      <td>42,606</td>\n",
              "      <td>원유</td>\n",
              "      <td>55,959</td>\n",
              "      <td>원유</td>\n",
              "      <td>60,324</td>\n",
              "      <td>원유</td>\n",
              "      <td>85,855</td>\n",
              "      <td>원유</td>\n",
              "      <td>50,757</td>\n",
              "      <td>원유</td>\n",
              "      <td>68,662</td>\n",
              "      <td>원유</td>\n",
              "      <td>100,806</td>\n",
              "      <td>원유</td>\n",
              "      <td>108,298</td>\n",
              "      <td>원유</td>\n",
              "      <td>99,333</td>\n",
              "      <td>원유</td>\n",
              "      <td>94,907</td>\n",
              "      <td>원유</td>\n",
              "      <td>55,120</td>\n",
              "      <td>원유</td>\n",
              "      <td>44,295</td>\n",
              "      <td>원유</td>\n",
              "      <td>59,603</td>\n",
              "      <td>원유</td>\n",
              "      <td>80,393</td>\n",
              "      <td>원유</td>\n",
              "      <td>70,252</td>\n",
              "      <td>반도체</td>\n",
              "      <td>50,283</td>\n",
              "    </tr>\n",
              "  </tbody>\n",
              "</table>\n",
              "</div>\n",
              "      <button class=\"colab-df-convert\" onclick=\"convertToInteractive('df-4da04a85-0db1-4701-a087-2f272d2b53a9')\"\n",
              "              title=\"Convert this dataframe to an interactive table.\"\n",
              "              style=\"display:none;\">\n",
              "        \n",
              "  <svg xmlns=\"http://www.w3.org/2000/svg\" height=\"24px\"viewBox=\"0 0 24 24\"\n",
              "       width=\"24px\">\n",
              "    <path d=\"M0 0h24v24H0V0z\" fill=\"none\"/>\n",
              "    <path d=\"M18.56 5.44l.94 2.06.94-2.06 2.06-.94-2.06-.94-.94-2.06-.94 2.06-2.06.94zm-11 1L8.5 8.5l.94-2.06 2.06-.94-2.06-.94L8.5 2.5l-.94 2.06-2.06.94zm10 10l.94 2.06.94-2.06 2.06-.94-2.06-.94-.94-2.06-.94 2.06-2.06.94z\"/><path d=\"M17.41 7.96l-1.37-1.37c-.4-.4-.92-.59-1.43-.59-.52 0-1.04.2-1.43.59L10.3 9.45l-7.72 7.72c-.78.78-.78 2.05 0 2.83L4 21.41c.39.39.9.59 1.41.59.51 0 1.02-.2 1.41-.59l7.78-7.78 2.81-2.81c.8-.78.8-2.07 0-2.86zM5.41 20L4 18.59l7.72-7.72 1.47 1.35L5.41 20z\"/>\n",
              "  </svg>\n",
              "      </button>\n",
              "      \n",
              "  <style>\n",
              "    .colab-df-container {\n",
              "      display:flex;\n",
              "      flex-wrap:wrap;\n",
              "      gap: 12px;\n",
              "    }\n",
              "\n",
              "    .colab-df-convert {\n",
              "      background-color: #E8F0FE;\n",
              "      border: none;\n",
              "      border-radius: 50%;\n",
              "      cursor: pointer;\n",
              "      display: none;\n",
              "      fill: #1967D2;\n",
              "      height: 32px;\n",
              "      padding: 0 0 0 0;\n",
              "      width: 32px;\n",
              "    }\n",
              "\n",
              "    .colab-df-convert:hover {\n",
              "      background-color: #E2EBFA;\n",
              "      box-shadow: 0px 1px 2px rgba(60, 64, 67, 0.3), 0px 1px 3px 1px rgba(60, 64, 67, 0.15);\n",
              "      fill: #174EA6;\n",
              "    }\n",
              "\n",
              "    [theme=dark] .colab-df-convert {\n",
              "      background-color: #3B4455;\n",
              "      fill: #D2E3FC;\n",
              "    }\n",
              "\n",
              "    [theme=dark] .colab-df-convert:hover {\n",
              "      background-color: #434B5C;\n",
              "      box-shadow: 0px 1px 3px 1px rgba(0, 0, 0, 0.15);\n",
              "      filter: drop-shadow(0px 1px 2px rgba(0, 0, 0, 0.3));\n",
              "      fill: #FFFFFF;\n",
              "    }\n",
              "  </style>\n",
              "\n",
              "      <script>\n",
              "        const buttonEl =\n",
              "          document.querySelector('#df-4da04a85-0db1-4701-a087-2f272d2b53a9 button.colab-df-convert');\n",
              "        buttonEl.style.display =\n",
              "          google.colab.kernel.accessAllowed ? 'block' : 'none';\n",
              "\n",
              "        async function convertToInteractive(key) {\n",
              "          const element = document.querySelector('#df-4da04a85-0db1-4701-a087-2f272d2b53a9');\n",
              "          const dataTable =\n",
              "            await google.colab.kernel.invokeFunction('convertToInteractive',\n",
              "                                                     [key], {});\n",
              "          if (!dataTable) return;\n",
              "\n",
              "          const docLinkHtml = 'Like what you see? Visit the ' +\n",
              "            '<a target=\"_blank\" href=https://colab.research.google.com/notebooks/data_table.ipynb>data table notebook</a>'\n",
              "            + ' to learn more about interactive tables.';\n",
              "          element.innerHTML = '';\n",
              "          dataTable['output_type'] = 'display_data';\n",
              "          await google.colab.output.renderOutput(dataTable, element);\n",
              "          const docLink = document.createElement('div');\n",
              "          docLink.innerHTML = docLinkHtml;\n",
              "          element.appendChild(docLink);\n",
              "        }\n",
              "      </script>\n",
              "    </div>\n",
              "  </div>\n",
              "  "
            ],
            "text/plain": [
              "   순위 1996년      가격 1997년      가격  ...      가격 2019년      가격 2020년      가격\n",
              "3  1위    원유  14,432    원유  17,772  ...  80,393    원유  70,252   반도체  50,283\n",
              "\n",
              "[1 rows x 51 columns]"
            ]
          },
          "metadata": {},
          "execution_count": 6
        }
      ]
    },
    {
      "cell_type": "code",
      "source": [
        "rank_1.T.head(10)"
      ],
      "metadata": {
        "colab": {
          "base_uri": "https://localhost:8080/",
          "height": 359
        },
        "id": "K0IiJVKp_aFw",
        "outputId": "12d9a8ec-215c-4685-f61d-fba0153afacb"
      },
      "execution_count": 9,
      "outputs": [
        {
          "output_type": "execute_result",
          "data": {
            "text/html": [
              "\n",
              "  <div id=\"df-08aa2885-3bf9-4445-80fd-aae26014d5ee\">\n",
              "    <div class=\"colab-df-container\">\n",
              "      <div>\n",
              "<style scoped>\n",
              "    .dataframe tbody tr th:only-of-type {\n",
              "        vertical-align: middle;\n",
              "    }\n",
              "\n",
              "    .dataframe tbody tr th {\n",
              "        vertical-align: top;\n",
              "    }\n",
              "\n",
              "    .dataframe thead th {\n",
              "        text-align: right;\n",
              "    }\n",
              "</style>\n",
              "<table border=\"1\" class=\"dataframe\">\n",
              "  <thead>\n",
              "    <tr style=\"text-align: right;\">\n",
              "      <th></th>\n",
              "      <th>3</th>\n",
              "    </tr>\n",
              "  </thead>\n",
              "  <tbody>\n",
              "    <tr>\n",
              "      <th>순위</th>\n",
              "      <td>1위</td>\n",
              "    </tr>\n",
              "    <tr>\n",
              "      <th>1996년</th>\n",
              "      <td>원유</td>\n",
              "    </tr>\n",
              "    <tr>\n",
              "      <th>가격</th>\n",
              "      <td>14,432</td>\n",
              "    </tr>\n",
              "    <tr>\n",
              "      <th>1997년</th>\n",
              "      <td>원유</td>\n",
              "    </tr>\n",
              "    <tr>\n",
              "      <th>가격</th>\n",
              "      <td>17,772</td>\n",
              "    </tr>\n",
              "    <tr>\n",
              "      <th>1998년</th>\n",
              "      <td>반도체</td>\n",
              "    </tr>\n",
              "    <tr>\n",
              "      <th>가격</th>\n",
              "      <td>12,244</td>\n",
              "    </tr>\n",
              "    <tr>\n",
              "      <th>1999년</th>\n",
              "      <td>반도체</td>\n",
              "    </tr>\n",
              "    <tr>\n",
              "      <th>가격</th>\n",
              "      <td>16,059</td>\n",
              "    </tr>\n",
              "    <tr>\n",
              "      <th>2000년</th>\n",
              "      <td>원유</td>\n",
              "    </tr>\n",
              "  </tbody>\n",
              "</table>\n",
              "</div>\n",
              "      <button class=\"colab-df-convert\" onclick=\"convertToInteractive('df-08aa2885-3bf9-4445-80fd-aae26014d5ee')\"\n",
              "              title=\"Convert this dataframe to an interactive table.\"\n",
              "              style=\"display:none;\">\n",
              "        \n",
              "  <svg xmlns=\"http://www.w3.org/2000/svg\" height=\"24px\"viewBox=\"0 0 24 24\"\n",
              "       width=\"24px\">\n",
              "    <path d=\"M0 0h24v24H0V0z\" fill=\"none\"/>\n",
              "    <path d=\"M18.56 5.44l.94 2.06.94-2.06 2.06-.94-2.06-.94-.94-2.06-.94 2.06-2.06.94zm-11 1L8.5 8.5l.94-2.06 2.06-.94-2.06-.94L8.5 2.5l-.94 2.06-2.06.94zm10 10l.94 2.06.94-2.06 2.06-.94-2.06-.94-.94-2.06-.94 2.06-2.06.94z\"/><path d=\"M17.41 7.96l-1.37-1.37c-.4-.4-.92-.59-1.43-.59-.52 0-1.04.2-1.43.59L10.3 9.45l-7.72 7.72c-.78.78-.78 2.05 0 2.83L4 21.41c.39.39.9.59 1.41.59.51 0 1.02-.2 1.41-.59l7.78-7.78 2.81-2.81c.8-.78.8-2.07 0-2.86zM5.41 20L4 18.59l7.72-7.72 1.47 1.35L5.41 20z\"/>\n",
              "  </svg>\n",
              "      </button>\n",
              "      \n",
              "  <style>\n",
              "    .colab-df-container {\n",
              "      display:flex;\n",
              "      flex-wrap:wrap;\n",
              "      gap: 12px;\n",
              "    }\n",
              "\n",
              "    .colab-df-convert {\n",
              "      background-color: #E8F0FE;\n",
              "      border: none;\n",
              "      border-radius: 50%;\n",
              "      cursor: pointer;\n",
              "      display: none;\n",
              "      fill: #1967D2;\n",
              "      height: 32px;\n",
              "      padding: 0 0 0 0;\n",
              "      width: 32px;\n",
              "    }\n",
              "\n",
              "    .colab-df-convert:hover {\n",
              "      background-color: #E2EBFA;\n",
              "      box-shadow: 0px 1px 2px rgba(60, 64, 67, 0.3), 0px 1px 3px 1px rgba(60, 64, 67, 0.15);\n",
              "      fill: #174EA6;\n",
              "    }\n",
              "\n",
              "    [theme=dark] .colab-df-convert {\n",
              "      background-color: #3B4455;\n",
              "      fill: #D2E3FC;\n",
              "    }\n",
              "\n",
              "    [theme=dark] .colab-df-convert:hover {\n",
              "      background-color: #434B5C;\n",
              "      box-shadow: 0px 1px 3px 1px rgba(0, 0, 0, 0.15);\n",
              "      filter: drop-shadow(0px 1px 2px rgba(0, 0, 0, 0.3));\n",
              "      fill: #FFFFFF;\n",
              "    }\n",
              "  </style>\n",
              "\n",
              "      <script>\n",
              "        const buttonEl =\n",
              "          document.querySelector('#df-08aa2885-3bf9-4445-80fd-aae26014d5ee button.colab-df-convert');\n",
              "        buttonEl.style.display =\n",
              "          google.colab.kernel.accessAllowed ? 'block' : 'none';\n",
              "\n",
              "        async function convertToInteractive(key) {\n",
              "          const element = document.querySelector('#df-08aa2885-3bf9-4445-80fd-aae26014d5ee');\n",
              "          const dataTable =\n",
              "            await google.colab.kernel.invokeFunction('convertToInteractive',\n",
              "                                                     [key], {});\n",
              "          if (!dataTable) return;\n",
              "\n",
              "          const docLinkHtml = 'Like what you see? Visit the ' +\n",
              "            '<a target=\"_blank\" href=https://colab.research.google.com/notebooks/data_table.ipynb>data table notebook</a>'\n",
              "            + ' to learn more about interactive tables.';\n",
              "          element.innerHTML = '';\n",
              "          dataTable['output_type'] = 'display_data';\n",
              "          await google.colab.output.renderOutput(dataTable, element);\n",
              "          const docLink = document.createElement('div');\n",
              "          docLink.innerHTML = docLinkHtml;\n",
              "          element.appendChild(docLink);\n",
              "        }\n",
              "      </script>\n",
              "    </div>\n",
              "  </div>\n",
              "  "
            ],
            "text/plain": [
              "            3\n",
              "순위         1위\n",
              "1996년      원유\n",
              "가격     14,432\n",
              "1997년      원유\n",
              "가격     17,772\n",
              "1998년     반도체\n",
              "가격     12,244\n",
              "1999년     반도체\n",
              "가격     16,059\n",
              "2000년      원유"
            ]
          },
          "metadata": {},
          "execution_count": 9
        }
      ]
    },
    {
      "cell_type": "code",
      "source": [
        "rank_1.T.value_counts()[:2]"
      ],
      "metadata": {
        "colab": {
          "base_uri": "https://localhost:8080/"
        },
        "id": "3OYAjmD2qSaW",
        "outputId": "5da183d3-74e4-4a9f-f659-2769af1e315b"
      },
      "execution_count": 13,
      "outputs": [
        {
          "output_type": "execute_result",
          "data": {
            "text/plain": [
              "3  \n",
              "원유     22\n",
              "반도체     3\n",
              "dtype: int64"
            ]
          },
          "metadata": {},
          "execution_count": 13
        }
      ]
    },
    {
      "cell_type": "markdown",
      "source": [
        "\n",
        "\n",
        "🙏 데이터 출처\n",
        "* [e-나라지표 10대 수출입 품목](https://www.index.go.kr/potal/main/EachDtlPageDetail.do?idx_cd=2455)\n",
        "* [yahoo finance - wti](https://finance.yahoo.com/quote/WTI?p=WTI&.tsrc=fin-srch)\n",
        "* [investing.com - 미래에셋 TIGER 원유선물 특별자산상장지수투자신탁(원유-파생형) (130680)\n",
        "](https://kr.investing.com/etfs/miraeasset-tiger-wti-futures)"
      ],
      "metadata": {
        "id": "t1JZ85pKlMFy"
      }
    },
    {
      "cell_type": "markdown",
      "source": [
        "# set"
      ],
      "metadata": {
        "id": "oQOYBODqn7K_"
      }
    },
    {
      "cell_type": "code",
      "execution_count": 14,
      "metadata": {
        "id": "A8MPs0nm1JCb"
      },
      "outputs": [],
      "source": [
        "# analysis\n",
        "import pandas as pd\n",
        "import numpy as np\n",
        "\n",
        "# model\n",
        "from keras.models import Sequential\n",
        "from keras.layers import LSTM, Dropout, Dense, Activation\n",
        "\n",
        "# Visualization\n",
        "import matplotlib.pyplot as plt"
      ]
    },
    {
      "cell_type": "code",
      "source": [
        "# 경고 뜨는 것 방지\n",
        "import warnings\n",
        "warnings.filterwarnings(\"ignore\")"
      ],
      "metadata": {
        "id": "gHZyYlbYrHzP"
      },
      "execution_count": 15,
      "outputs": []
    },
    {
      "cell_type": "code",
      "source": [
        "# pandas 포멧팅을 사용 : 판다스 객체들의 결과에서 쉼표를 넣고 소숫점 아래는 생략하도록 설정\n",
        "# float 형식 소숫점 2자리, 쉼표 포함\n",
        "pd.set_option('display.float_format', '{:,.2f}'.format)"
      ],
      "metadata": {
        "id": "42-K4Yp_VuFi"
      },
      "execution_count": 16,
      "outputs": []
    },
    {
      "cell_type": "markdown",
      "source": [
        "# 1. 미국 유가 ETF WTI"
      ],
      "metadata": {
        "id": "iAVNX3SgVHnA"
      }
    },
    {
      "cell_type": "markdown",
      "source": [
        "## 1. Load Dataset"
      ],
      "metadata": {
        "id": "lrZJvPvLiu5O"
      }
    },
    {
      "cell_type": "markdown",
      "source": [
        "### 📎 데이터 살펴보기"
      ],
      "metadata": {
        "id": "ZQx91Qz3WZdM"
      }
    },
    {
      "cell_type": "code",
      "execution_count": 79,
      "metadata": {
        "colab": {
          "base_uri": "https://localhost:8080/",
          "height": 204
        },
        "id": "43nZjmx31JCd",
        "outputId": "1846962b-70c5-4421-af72-62a26ba955b7"
      },
      "outputs": [
        {
          "output_type": "execute_result",
          "data": {
            "text/html": [
              "\n",
              "  <div id=\"df-ffdac1a2-fc3b-4ba8-bb9e-b03986531627\">\n",
              "    <div class=\"colab-df-container\">\n",
              "      <div>\n",
              "<style scoped>\n",
              "    .dataframe tbody tr th:only-of-type {\n",
              "        vertical-align: middle;\n",
              "    }\n",
              "\n",
              "    .dataframe tbody tr th {\n",
              "        vertical-align: top;\n",
              "    }\n",
              "\n",
              "    .dataframe thead th {\n",
              "        text-align: right;\n",
              "    }\n",
              "</style>\n",
              "<table border=\"1\" class=\"dataframe\">\n",
              "  <thead>\n",
              "    <tr style=\"text-align: right;\">\n",
              "      <th></th>\n",
              "      <th>Date</th>\n",
              "      <th>Open</th>\n",
              "      <th>High</th>\n",
              "      <th>Low</th>\n",
              "      <th>Close</th>\n",
              "      <th>Adj Close</th>\n",
              "      <th>Volume</th>\n",
              "    </tr>\n",
              "  </thead>\n",
              "  <tbody>\n",
              "    <tr>\n",
              "      <th>0</th>\n",
              "      <td>2012-01-10</td>\n",
              "      <td>21.64</td>\n",
              "      <td>22.00</td>\n",
              "      <td>21.41</td>\n",
              "      <td>21.59</td>\n",
              "      <td>18.98</td>\n",
              "      <td>322000</td>\n",
              "    </tr>\n",
              "    <tr>\n",
              "      <th>1</th>\n",
              "      <td>2012-01-11</td>\n",
              "      <td>21.49</td>\n",
              "      <td>21.60</td>\n",
              "      <td>20.83</td>\n",
              "      <td>21.03</td>\n",
              "      <td>18.49</td>\n",
              "      <td>299900</td>\n",
              "    </tr>\n",
              "    <tr>\n",
              "      <th>2</th>\n",
              "      <td>2012-01-12</td>\n",
              "      <td>21.20</td>\n",
              "      <td>21.33</td>\n",
              "      <td>20.95</td>\n",
              "      <td>20.97</td>\n",
              "      <td>18.44</td>\n",
              "      <td>249400</td>\n",
              "    </tr>\n",
              "    <tr>\n",
              "      <th>3</th>\n",
              "      <td>2012-01-13</td>\n",
              "      <td>20.69</td>\n",
              "      <td>20.86</td>\n",
              "      <td>19.89</td>\n",
              "      <td>20.24</td>\n",
              "      <td>17.79</td>\n",
              "      <td>455500</td>\n",
              "    </tr>\n",
              "    <tr>\n",
              "      <th>4</th>\n",
              "      <td>2012-01-17</td>\n",
              "      <td>20.53</td>\n",
              "      <td>20.70</td>\n",
              "      <td>19.92</td>\n",
              "      <td>20.49</td>\n",
              "      <td>18.01</td>\n",
              "      <td>436800</td>\n",
              "    </tr>\n",
              "  </tbody>\n",
              "</table>\n",
              "</div>\n",
              "      <button class=\"colab-df-convert\" onclick=\"convertToInteractive('df-ffdac1a2-fc3b-4ba8-bb9e-b03986531627')\"\n",
              "              title=\"Convert this dataframe to an interactive table.\"\n",
              "              style=\"display:none;\">\n",
              "        \n",
              "  <svg xmlns=\"http://www.w3.org/2000/svg\" height=\"24px\"viewBox=\"0 0 24 24\"\n",
              "       width=\"24px\">\n",
              "    <path d=\"M0 0h24v24H0V0z\" fill=\"none\"/>\n",
              "    <path d=\"M18.56 5.44l.94 2.06.94-2.06 2.06-.94-2.06-.94-.94-2.06-.94 2.06-2.06.94zm-11 1L8.5 8.5l.94-2.06 2.06-.94-2.06-.94L8.5 2.5l-.94 2.06-2.06.94zm10 10l.94 2.06.94-2.06 2.06-.94-2.06-.94-.94-2.06-.94 2.06-2.06.94z\"/><path d=\"M17.41 7.96l-1.37-1.37c-.4-.4-.92-.59-1.43-.59-.52 0-1.04.2-1.43.59L10.3 9.45l-7.72 7.72c-.78.78-.78 2.05 0 2.83L4 21.41c.39.39.9.59 1.41.59.51 0 1.02-.2 1.41-.59l7.78-7.78 2.81-2.81c.8-.78.8-2.07 0-2.86zM5.41 20L4 18.59l7.72-7.72 1.47 1.35L5.41 20z\"/>\n",
              "  </svg>\n",
              "      </button>\n",
              "      \n",
              "  <style>\n",
              "    .colab-df-container {\n",
              "      display:flex;\n",
              "      flex-wrap:wrap;\n",
              "      gap: 12px;\n",
              "    }\n",
              "\n",
              "    .colab-df-convert {\n",
              "      background-color: #E8F0FE;\n",
              "      border: none;\n",
              "      border-radius: 50%;\n",
              "      cursor: pointer;\n",
              "      display: none;\n",
              "      fill: #1967D2;\n",
              "      height: 32px;\n",
              "      padding: 0 0 0 0;\n",
              "      width: 32px;\n",
              "    }\n",
              "\n",
              "    .colab-df-convert:hover {\n",
              "      background-color: #E2EBFA;\n",
              "      box-shadow: 0px 1px 2px rgba(60, 64, 67, 0.3), 0px 1px 3px 1px rgba(60, 64, 67, 0.15);\n",
              "      fill: #174EA6;\n",
              "    }\n",
              "\n",
              "    [theme=dark] .colab-df-convert {\n",
              "      background-color: #3B4455;\n",
              "      fill: #D2E3FC;\n",
              "    }\n",
              "\n",
              "    [theme=dark] .colab-df-convert:hover {\n",
              "      background-color: #434B5C;\n",
              "      box-shadow: 0px 1px 3px 1px rgba(0, 0, 0, 0.15);\n",
              "      filter: drop-shadow(0px 1px 2px rgba(0, 0, 0, 0.3));\n",
              "      fill: #FFFFFF;\n",
              "    }\n",
              "  </style>\n",
              "\n",
              "      <script>\n",
              "        const buttonEl =\n",
              "          document.querySelector('#df-ffdac1a2-fc3b-4ba8-bb9e-b03986531627 button.colab-df-convert');\n",
              "        buttonEl.style.display =\n",
              "          google.colab.kernel.accessAllowed ? 'block' : 'none';\n",
              "\n",
              "        async function convertToInteractive(key) {\n",
              "          const element = document.querySelector('#df-ffdac1a2-fc3b-4ba8-bb9e-b03986531627');\n",
              "          const dataTable =\n",
              "            await google.colab.kernel.invokeFunction('convertToInteractive',\n",
              "                                                     [key], {});\n",
              "          if (!dataTable) return;\n",
              "\n",
              "          const docLinkHtml = 'Like what you see? Visit the ' +\n",
              "            '<a target=\"_blank\" href=https://colab.research.google.com/notebooks/data_table.ipynb>data table notebook</a>'\n",
              "            + ' to learn more about interactive tables.';\n",
              "          element.innerHTML = '';\n",
              "          dataTable['output_type'] = 'display_data';\n",
              "          await google.colab.output.renderOutput(dataTable, element);\n",
              "          const docLink = document.createElement('div');\n",
              "          docLink.innerHTML = docLinkHtml;\n",
              "          element.appendChild(docLink);\n",
              "        }\n",
              "      </script>\n",
              "    </div>\n",
              "  </div>\n",
              "  "
            ],
            "text/plain": [
              "         Date  Open  High   Low  Close  Adj Close  Volume\n",
              "0  2012-01-10 21.64 22.00 21.41  21.59      18.98  322000\n",
              "1  2012-01-11 21.49 21.60 20.83  21.03      18.49  299900\n",
              "2  2012-01-12 21.20 21.33 20.95  20.97      18.44  249400\n",
              "3  2012-01-13 20.69 20.86 19.89  20.24      17.79  455500\n",
              "4  2012-01-17 20.53 20.70 19.92  20.49      18.01  436800"
            ]
          },
          "metadata": {},
          "execution_count": 79
        }
      ],
      "source": [
        "wti = pd.read_csv('/content/drive/MyDrive/Colab Notebooks/codestates/section4 project/WTI.csv')\n",
        "wti.head()"
      ]
    },
    {
      "cell_type": "code",
      "execution_count": 80,
      "metadata": {
        "colab": {
          "base_uri": "https://localhost:8080/",
          "height": 204
        },
        "id": "-mKTn31YiS6T",
        "outputId": "9c6fe85d-090b-428c-a9ad-4e4f2883479f"
      },
      "outputs": [
        {
          "output_type": "execute_result",
          "data": {
            "text/html": [
              "\n",
              "  <div id=\"df-06aa8280-ff9c-44df-a81f-1bdb17b2f664\">\n",
              "    <div class=\"colab-df-container\">\n",
              "      <div>\n",
              "<style scoped>\n",
              "    .dataframe tbody tr th:only-of-type {\n",
              "        vertical-align: middle;\n",
              "    }\n",
              "\n",
              "    .dataframe tbody tr th {\n",
              "        vertical-align: top;\n",
              "    }\n",
              "\n",
              "    .dataframe thead th {\n",
              "        text-align: right;\n",
              "    }\n",
              "</style>\n",
              "<table border=\"1\" class=\"dataframe\">\n",
              "  <thead>\n",
              "    <tr style=\"text-align: right;\">\n",
              "      <th></th>\n",
              "      <th>Date</th>\n",
              "      <th>Open</th>\n",
              "      <th>High</th>\n",
              "      <th>Low</th>\n",
              "      <th>Close</th>\n",
              "      <th>Adj Close</th>\n",
              "      <th>Volume</th>\n",
              "    </tr>\n",
              "  </thead>\n",
              "  <tbody>\n",
              "    <tr>\n",
              "      <th>2512</th>\n",
              "      <td>2022-01-03</td>\n",
              "      <td>3.26</td>\n",
              "      <td>3.54</td>\n",
              "      <td>3.24</td>\n",
              "      <td>3.51</td>\n",
              "      <td>3.51</td>\n",
              "      <td>3202100</td>\n",
              "    </tr>\n",
              "    <tr>\n",
              "      <th>2513</th>\n",
              "      <td>2022-01-04</td>\n",
              "      <td>3.57</td>\n",
              "      <td>3.67</td>\n",
              "      <td>3.55</td>\n",
              "      <td>3.61</td>\n",
              "      <td>3.61</td>\n",
              "      <td>1609300</td>\n",
              "    </tr>\n",
              "    <tr>\n",
              "      <th>2514</th>\n",
              "      <td>2022-01-05</td>\n",
              "      <td>3.67</td>\n",
              "      <td>3.75</td>\n",
              "      <td>3.48</td>\n",
              "      <td>3.48</td>\n",
              "      <td>3.48</td>\n",
              "      <td>1822600</td>\n",
              "    </tr>\n",
              "    <tr>\n",
              "      <th>2515</th>\n",
              "      <td>2022-01-06</td>\n",
              "      <td>3.62</td>\n",
              "      <td>3.72</td>\n",
              "      <td>3.52</td>\n",
              "      <td>3.68</td>\n",
              "      <td>3.68</td>\n",
              "      <td>2023100</td>\n",
              "    </tr>\n",
              "    <tr>\n",
              "      <th>2516</th>\n",
              "      <td>2022-01-07</td>\n",
              "      <td>3.70</td>\n",
              "      <td>3.71</td>\n",
              "      <td>3.59</td>\n",
              "      <td>3.63</td>\n",
              "      <td>3.63</td>\n",
              "      <td>1069100</td>\n",
              "    </tr>\n",
              "  </tbody>\n",
              "</table>\n",
              "</div>\n",
              "      <button class=\"colab-df-convert\" onclick=\"convertToInteractive('df-06aa8280-ff9c-44df-a81f-1bdb17b2f664')\"\n",
              "              title=\"Convert this dataframe to an interactive table.\"\n",
              "              style=\"display:none;\">\n",
              "        \n",
              "  <svg xmlns=\"http://www.w3.org/2000/svg\" height=\"24px\"viewBox=\"0 0 24 24\"\n",
              "       width=\"24px\">\n",
              "    <path d=\"M0 0h24v24H0V0z\" fill=\"none\"/>\n",
              "    <path d=\"M18.56 5.44l.94 2.06.94-2.06 2.06-.94-2.06-.94-.94-2.06-.94 2.06-2.06.94zm-11 1L8.5 8.5l.94-2.06 2.06-.94-2.06-.94L8.5 2.5l-.94 2.06-2.06.94zm10 10l.94 2.06.94-2.06 2.06-.94-2.06-.94-.94-2.06-.94 2.06-2.06.94z\"/><path d=\"M17.41 7.96l-1.37-1.37c-.4-.4-.92-.59-1.43-.59-.52 0-1.04.2-1.43.59L10.3 9.45l-7.72 7.72c-.78.78-.78 2.05 0 2.83L4 21.41c.39.39.9.59 1.41.59.51 0 1.02-.2 1.41-.59l7.78-7.78 2.81-2.81c.8-.78.8-2.07 0-2.86zM5.41 20L4 18.59l7.72-7.72 1.47 1.35L5.41 20z\"/>\n",
              "  </svg>\n",
              "      </button>\n",
              "      \n",
              "  <style>\n",
              "    .colab-df-container {\n",
              "      display:flex;\n",
              "      flex-wrap:wrap;\n",
              "      gap: 12px;\n",
              "    }\n",
              "\n",
              "    .colab-df-convert {\n",
              "      background-color: #E8F0FE;\n",
              "      border: none;\n",
              "      border-radius: 50%;\n",
              "      cursor: pointer;\n",
              "      display: none;\n",
              "      fill: #1967D2;\n",
              "      height: 32px;\n",
              "      padding: 0 0 0 0;\n",
              "      width: 32px;\n",
              "    }\n",
              "\n",
              "    .colab-df-convert:hover {\n",
              "      background-color: #E2EBFA;\n",
              "      box-shadow: 0px 1px 2px rgba(60, 64, 67, 0.3), 0px 1px 3px 1px rgba(60, 64, 67, 0.15);\n",
              "      fill: #174EA6;\n",
              "    }\n",
              "\n",
              "    [theme=dark] .colab-df-convert {\n",
              "      background-color: #3B4455;\n",
              "      fill: #D2E3FC;\n",
              "    }\n",
              "\n",
              "    [theme=dark] .colab-df-convert:hover {\n",
              "      background-color: #434B5C;\n",
              "      box-shadow: 0px 1px 3px 1px rgba(0, 0, 0, 0.15);\n",
              "      filter: drop-shadow(0px 1px 2px rgba(0, 0, 0, 0.3));\n",
              "      fill: #FFFFFF;\n",
              "    }\n",
              "  </style>\n",
              "\n",
              "      <script>\n",
              "        const buttonEl =\n",
              "          document.querySelector('#df-06aa8280-ff9c-44df-a81f-1bdb17b2f664 button.colab-df-convert');\n",
              "        buttonEl.style.display =\n",
              "          google.colab.kernel.accessAllowed ? 'block' : 'none';\n",
              "\n",
              "        async function convertToInteractive(key) {\n",
              "          const element = document.querySelector('#df-06aa8280-ff9c-44df-a81f-1bdb17b2f664');\n",
              "          const dataTable =\n",
              "            await google.colab.kernel.invokeFunction('convertToInteractive',\n",
              "                                                     [key], {});\n",
              "          if (!dataTable) return;\n",
              "\n",
              "          const docLinkHtml = 'Like what you see? Visit the ' +\n",
              "            '<a target=\"_blank\" href=https://colab.research.google.com/notebooks/data_table.ipynb>data table notebook</a>'\n",
              "            + ' to learn more about interactive tables.';\n",
              "          element.innerHTML = '';\n",
              "          dataTable['output_type'] = 'display_data';\n",
              "          await google.colab.output.renderOutput(dataTable, element);\n",
              "          const docLink = document.createElement('div');\n",
              "          docLink.innerHTML = docLinkHtml;\n",
              "          element.appendChild(docLink);\n",
              "        }\n",
              "      </script>\n",
              "    </div>\n",
              "  </div>\n",
              "  "
            ],
            "text/plain": [
              "            Date  Open  High  Low  Close  Adj Close   Volume\n",
              "2512  2022-01-03  3.26  3.54 3.24   3.51       3.51  3202100\n",
              "2513  2022-01-04  3.57  3.67 3.55   3.61       3.61  1609300\n",
              "2514  2022-01-05  3.67  3.75 3.48   3.48       3.48  1822600\n",
              "2515  2022-01-06  3.62  3.72 3.52   3.68       3.68  2023100\n",
              "2516  2022-01-07  3.70  3.71 3.59   3.63       3.63  1069100"
            ]
          },
          "metadata": {},
          "execution_count": 80
        }
      ],
      "source": [
        "wti.tail()"
      ]
    },
    {
      "cell_type": "code",
      "source": [
        "wti.shape"
      ],
      "metadata": {
        "colab": {
          "base_uri": "https://localhost:8080/"
        },
        "id": "hq2OKyURrQzs",
        "outputId": "e026f36f-51a2-4e22-a3af-fa752524bdf8"
      },
      "execution_count": 19,
      "outputs": [
        {
          "output_type": "execute_result",
          "data": {
            "text/plain": [
              "(2517, 7)"
            ]
          },
          "metadata": {},
          "execution_count": 19
        }
      ]
    },
    {
      "cell_type": "code",
      "execution_count": 20,
      "metadata": {
        "colab": {
          "base_uri": "https://localhost:8080/"
        },
        "id": "5b2mBIhEiS6T",
        "outputId": "69fb999e-22a4-468d-ee43-c6015dffa4a9"
      },
      "outputs": [
        {
          "output_type": "stream",
          "name": "stdout",
          "text": [
            "<class 'pandas.core.frame.DataFrame'>\n",
            "RangeIndex: 2517 entries, 0 to 2516\n",
            "Data columns (total 7 columns):\n",
            " #   Column     Non-Null Count  Dtype  \n",
            "---  ------     --------------  -----  \n",
            " 0   Date       2517 non-null   object \n",
            " 1   Open       2517 non-null   float64\n",
            " 2   High       2517 non-null   float64\n",
            " 3   Low        2517 non-null   float64\n",
            " 4   Close      2517 non-null   float64\n",
            " 5   Adj Close  2517 non-null   float64\n",
            " 6   Volume     2517 non-null   int64  \n",
            "dtypes: float64(5), int64(1), object(1)\n",
            "memory usage: 137.8+ KB\n"
          ]
        }
      ],
      "source": [
        "wti.info()"
      ]
    },
    {
      "cell_type": "code",
      "execution_count": 21,
      "metadata": {
        "colab": {
          "base_uri": "https://localhost:8080/",
          "height": 297
        },
        "id": "KiZfojmFiS6U",
        "outputId": "ce17c271-0de6-4850-b592-80292fde30f3"
      },
      "outputs": [
        {
          "output_type": "execute_result",
          "data": {
            "text/html": [
              "\n",
              "  <div id=\"df-f25a88f0-4b32-4146-abad-fa5bcc71d4e4\">\n",
              "    <div class=\"colab-df-container\">\n",
              "      <div>\n",
              "<style scoped>\n",
              "    .dataframe tbody tr th:only-of-type {\n",
              "        vertical-align: middle;\n",
              "    }\n",
              "\n",
              "    .dataframe tbody tr th {\n",
              "        vertical-align: top;\n",
              "    }\n",
              "\n",
              "    .dataframe thead th {\n",
              "        text-align: right;\n",
              "    }\n",
              "</style>\n",
              "<table border=\"1\" class=\"dataframe\">\n",
              "  <thead>\n",
              "    <tr style=\"text-align: right;\">\n",
              "      <th></th>\n",
              "      <th>Open</th>\n",
              "      <th>High</th>\n",
              "      <th>Low</th>\n",
              "      <th>Close</th>\n",
              "      <th>Adj Close</th>\n",
              "      <th>Volume</th>\n",
              "    </tr>\n",
              "  </thead>\n",
              "  <tbody>\n",
              "    <tr>\n",
              "      <th>count</th>\n",
              "      <td>2,517.00</td>\n",
              "      <td>2,517.00</td>\n",
              "      <td>2,517.00</td>\n",
              "      <td>2,517.00</td>\n",
              "      <td>2,517.00</td>\n",
              "      <td>2,517.00</td>\n",
              "    </tr>\n",
              "    <tr>\n",
              "      <th>mean</th>\n",
              "      <td>7.42</td>\n",
              "      <td>7.59</td>\n",
              "      <td>7.23</td>\n",
              "      <td>7.40</td>\n",
              "      <td>7.07</td>\n",
              "      <td>2,134,449.58</td>\n",
              "    </tr>\n",
              "    <tr>\n",
              "      <th>std</th>\n",
              "      <td>6.08</td>\n",
              "      <td>6.17</td>\n",
              "      <td>5.97</td>\n",
              "      <td>6.07</td>\n",
              "      <td>5.51</td>\n",
              "      <td>2,069,943.73</td>\n",
              "    </tr>\n",
              "    <tr>\n",
              "      <th>min</th>\n",
              "      <td>1.15</td>\n",
              "      <td>1.22</td>\n",
              "      <td>1.07</td>\n",
              "      <td>1.09</td>\n",
              "      <td>1.09</td>\n",
              "      <td>113,900.00</td>\n",
              "    </tr>\n",
              "    <tr>\n",
              "      <th>25%</th>\n",
              "      <td>2.81</td>\n",
              "      <td>2.89</td>\n",
              "      <td>2.73</td>\n",
              "      <td>2.80</td>\n",
              "      <td>2.80</td>\n",
              "      <td>815,500.00</td>\n",
              "    </tr>\n",
              "    <tr>\n",
              "      <th>50%</th>\n",
              "      <td>4.57</td>\n",
              "      <td>4.68</td>\n",
              "      <td>4.43</td>\n",
              "      <td>4.55</td>\n",
              "      <td>4.55</td>\n",
              "      <td>1,653,200.00</td>\n",
              "    </tr>\n",
              "    <tr>\n",
              "      <th>75%</th>\n",
              "      <td>13.79</td>\n",
              "      <td>14.06</td>\n",
              "      <td>13.49</td>\n",
              "      <td>13.77</td>\n",
              "      <td>12.94</td>\n",
              "      <td>2,749,500.00</td>\n",
              "    </tr>\n",
              "    <tr>\n",
              "      <th>max</th>\n",
              "      <td>26.59</td>\n",
              "      <td>27.40</td>\n",
              "      <td>25.94</td>\n",
              "      <td>26.83</td>\n",
              "      <td>23.59</td>\n",
              "      <td>40,429,700.00</td>\n",
              "    </tr>\n",
              "  </tbody>\n",
              "</table>\n",
              "</div>\n",
              "      <button class=\"colab-df-convert\" onclick=\"convertToInteractive('df-f25a88f0-4b32-4146-abad-fa5bcc71d4e4')\"\n",
              "              title=\"Convert this dataframe to an interactive table.\"\n",
              "              style=\"display:none;\">\n",
              "        \n",
              "  <svg xmlns=\"http://www.w3.org/2000/svg\" height=\"24px\"viewBox=\"0 0 24 24\"\n",
              "       width=\"24px\">\n",
              "    <path d=\"M0 0h24v24H0V0z\" fill=\"none\"/>\n",
              "    <path d=\"M18.56 5.44l.94 2.06.94-2.06 2.06-.94-2.06-.94-.94-2.06-.94 2.06-2.06.94zm-11 1L8.5 8.5l.94-2.06 2.06-.94-2.06-.94L8.5 2.5l-.94 2.06-2.06.94zm10 10l.94 2.06.94-2.06 2.06-.94-2.06-.94-.94-2.06-.94 2.06-2.06.94z\"/><path d=\"M17.41 7.96l-1.37-1.37c-.4-.4-.92-.59-1.43-.59-.52 0-1.04.2-1.43.59L10.3 9.45l-7.72 7.72c-.78.78-.78 2.05 0 2.83L4 21.41c.39.39.9.59 1.41.59.51 0 1.02-.2 1.41-.59l7.78-7.78 2.81-2.81c.8-.78.8-2.07 0-2.86zM5.41 20L4 18.59l7.72-7.72 1.47 1.35L5.41 20z\"/>\n",
              "  </svg>\n",
              "      </button>\n",
              "      \n",
              "  <style>\n",
              "    .colab-df-container {\n",
              "      display:flex;\n",
              "      flex-wrap:wrap;\n",
              "      gap: 12px;\n",
              "    }\n",
              "\n",
              "    .colab-df-convert {\n",
              "      background-color: #E8F0FE;\n",
              "      border: none;\n",
              "      border-radius: 50%;\n",
              "      cursor: pointer;\n",
              "      display: none;\n",
              "      fill: #1967D2;\n",
              "      height: 32px;\n",
              "      padding: 0 0 0 0;\n",
              "      width: 32px;\n",
              "    }\n",
              "\n",
              "    .colab-df-convert:hover {\n",
              "      background-color: #E2EBFA;\n",
              "      box-shadow: 0px 1px 2px rgba(60, 64, 67, 0.3), 0px 1px 3px 1px rgba(60, 64, 67, 0.15);\n",
              "      fill: #174EA6;\n",
              "    }\n",
              "\n",
              "    [theme=dark] .colab-df-convert {\n",
              "      background-color: #3B4455;\n",
              "      fill: #D2E3FC;\n",
              "    }\n",
              "\n",
              "    [theme=dark] .colab-df-convert:hover {\n",
              "      background-color: #434B5C;\n",
              "      box-shadow: 0px 1px 3px 1px rgba(0, 0, 0, 0.15);\n",
              "      filter: drop-shadow(0px 1px 2px rgba(0, 0, 0, 0.3));\n",
              "      fill: #FFFFFF;\n",
              "    }\n",
              "  </style>\n",
              "\n",
              "      <script>\n",
              "        const buttonEl =\n",
              "          document.querySelector('#df-f25a88f0-4b32-4146-abad-fa5bcc71d4e4 button.colab-df-convert');\n",
              "        buttonEl.style.display =\n",
              "          google.colab.kernel.accessAllowed ? 'block' : 'none';\n",
              "\n",
              "        async function convertToInteractive(key) {\n",
              "          const element = document.querySelector('#df-f25a88f0-4b32-4146-abad-fa5bcc71d4e4');\n",
              "          const dataTable =\n",
              "            await google.colab.kernel.invokeFunction('convertToInteractive',\n",
              "                                                     [key], {});\n",
              "          if (!dataTable) return;\n",
              "\n",
              "          const docLinkHtml = 'Like what you see? Visit the ' +\n",
              "            '<a target=\"_blank\" href=https://colab.research.google.com/notebooks/data_table.ipynb>data table notebook</a>'\n",
              "            + ' to learn more about interactive tables.';\n",
              "          element.innerHTML = '';\n",
              "          dataTable['output_type'] = 'display_data';\n",
              "          await google.colab.output.renderOutput(dataTable, element);\n",
              "          const docLink = document.createElement('div');\n",
              "          docLink.innerHTML = docLinkHtml;\n",
              "          element.appendChild(docLink);\n",
              "        }\n",
              "      </script>\n",
              "    </div>\n",
              "  </div>\n",
              "  "
            ],
            "text/plain": [
              "          Open     High      Low    Close  Adj Close        Volume\n",
              "count 2,517.00 2,517.00 2,517.00 2,517.00   2,517.00      2,517.00\n",
              "mean      7.42     7.59     7.23     7.40       7.07  2,134,449.58\n",
              "std       6.08     6.17     5.97     6.07       5.51  2,069,943.73\n",
              "min       1.15     1.22     1.07     1.09       1.09    113,900.00\n",
              "25%       2.81     2.89     2.73     2.80       2.80    815,500.00\n",
              "50%       4.57     4.68     4.43     4.55       4.55  1,653,200.00\n",
              "75%      13.79    14.06    13.49    13.77      12.94  2,749,500.00\n",
              "max      26.59    27.40    25.94    26.83      23.59 40,429,700.00"
            ]
          },
          "metadata": {},
          "execution_count": 21
        }
      ],
      "source": [
        "wti.describe()"
      ]
    },
    {
      "cell_type": "code",
      "source": [
        "# describe\n",
        "wti.describe(include='all').T"
      ],
      "metadata": {
        "colab": {
          "base_uri": "https://localhost:8080/",
          "height": 266
        },
        "id": "ksui6HWUV9gf",
        "outputId": "976ddea2-5bf7-4dca-8ebd-699c667c0ea7"
      },
      "execution_count": 22,
      "outputs": [
        {
          "output_type": "execute_result",
          "data": {
            "text/html": [
              "\n",
              "  <div id=\"df-3ef1a0d8-6c7a-49c9-80b0-9d73ad95c928\">\n",
              "    <div class=\"colab-df-container\">\n",
              "      <div>\n",
              "<style scoped>\n",
              "    .dataframe tbody tr th:only-of-type {\n",
              "        vertical-align: middle;\n",
              "    }\n",
              "\n",
              "    .dataframe tbody tr th {\n",
              "        vertical-align: top;\n",
              "    }\n",
              "\n",
              "    .dataframe thead th {\n",
              "        text-align: right;\n",
              "    }\n",
              "</style>\n",
              "<table border=\"1\" class=\"dataframe\">\n",
              "  <thead>\n",
              "    <tr style=\"text-align: right;\">\n",
              "      <th></th>\n",
              "      <th>count</th>\n",
              "      <th>unique</th>\n",
              "      <th>top</th>\n",
              "      <th>freq</th>\n",
              "      <th>mean</th>\n",
              "      <th>std</th>\n",
              "      <th>min</th>\n",
              "      <th>25%</th>\n",
              "      <th>50%</th>\n",
              "      <th>75%</th>\n",
              "      <th>max</th>\n",
              "    </tr>\n",
              "  </thead>\n",
              "  <tbody>\n",
              "    <tr>\n",
              "      <th>Date</th>\n",
              "      <td>2517</td>\n",
              "      <td>2517</td>\n",
              "      <td>2021-09-30</td>\n",
              "      <td>1</td>\n",
              "      <td>NaN</td>\n",
              "      <td>NaN</td>\n",
              "      <td>NaN</td>\n",
              "      <td>NaN</td>\n",
              "      <td>NaN</td>\n",
              "      <td>NaN</td>\n",
              "      <td>NaN</td>\n",
              "    </tr>\n",
              "    <tr>\n",
              "      <th>Open</th>\n",
              "      <td>2,517.00</td>\n",
              "      <td>NaN</td>\n",
              "      <td>NaN</td>\n",
              "      <td>NaN</td>\n",
              "      <td>7.42</td>\n",
              "      <td>6.08</td>\n",
              "      <td>1.15</td>\n",
              "      <td>2.81</td>\n",
              "      <td>4.57</td>\n",
              "      <td>13.79</td>\n",
              "      <td>26.59</td>\n",
              "    </tr>\n",
              "    <tr>\n",
              "      <th>High</th>\n",
              "      <td>2,517.00</td>\n",
              "      <td>NaN</td>\n",
              "      <td>NaN</td>\n",
              "      <td>NaN</td>\n",
              "      <td>7.59</td>\n",
              "      <td>6.17</td>\n",
              "      <td>1.22</td>\n",
              "      <td>2.89</td>\n",
              "      <td>4.68</td>\n",
              "      <td>14.06</td>\n",
              "      <td>27.40</td>\n",
              "    </tr>\n",
              "    <tr>\n",
              "      <th>Low</th>\n",
              "      <td>2,517.00</td>\n",
              "      <td>NaN</td>\n",
              "      <td>NaN</td>\n",
              "      <td>NaN</td>\n",
              "      <td>7.23</td>\n",
              "      <td>5.97</td>\n",
              "      <td>1.07</td>\n",
              "      <td>2.73</td>\n",
              "      <td>4.43</td>\n",
              "      <td>13.49</td>\n",
              "      <td>25.94</td>\n",
              "    </tr>\n",
              "    <tr>\n",
              "      <th>Close</th>\n",
              "      <td>2,517.00</td>\n",
              "      <td>NaN</td>\n",
              "      <td>NaN</td>\n",
              "      <td>NaN</td>\n",
              "      <td>7.40</td>\n",
              "      <td>6.07</td>\n",
              "      <td>1.09</td>\n",
              "      <td>2.80</td>\n",
              "      <td>4.55</td>\n",
              "      <td>13.77</td>\n",
              "      <td>26.83</td>\n",
              "    </tr>\n",
              "    <tr>\n",
              "      <th>Adj Close</th>\n",
              "      <td>2,517.00</td>\n",
              "      <td>NaN</td>\n",
              "      <td>NaN</td>\n",
              "      <td>NaN</td>\n",
              "      <td>7.07</td>\n",
              "      <td>5.51</td>\n",
              "      <td>1.09</td>\n",
              "      <td>2.80</td>\n",
              "      <td>4.55</td>\n",
              "      <td>12.94</td>\n",
              "      <td>23.59</td>\n",
              "    </tr>\n",
              "    <tr>\n",
              "      <th>Volume</th>\n",
              "      <td>2,517.00</td>\n",
              "      <td>NaN</td>\n",
              "      <td>NaN</td>\n",
              "      <td>NaN</td>\n",
              "      <td>2,134,449.58</td>\n",
              "      <td>2,069,943.73</td>\n",
              "      <td>113,900.00</td>\n",
              "      <td>815,500.00</td>\n",
              "      <td>1,653,200.00</td>\n",
              "      <td>2,749,500.00</td>\n",
              "      <td>40,429,700.00</td>\n",
              "    </tr>\n",
              "  </tbody>\n",
              "</table>\n",
              "</div>\n",
              "      <button class=\"colab-df-convert\" onclick=\"convertToInteractive('df-3ef1a0d8-6c7a-49c9-80b0-9d73ad95c928')\"\n",
              "              title=\"Convert this dataframe to an interactive table.\"\n",
              "              style=\"display:none;\">\n",
              "        \n",
              "  <svg xmlns=\"http://www.w3.org/2000/svg\" height=\"24px\"viewBox=\"0 0 24 24\"\n",
              "       width=\"24px\">\n",
              "    <path d=\"M0 0h24v24H0V0z\" fill=\"none\"/>\n",
              "    <path d=\"M18.56 5.44l.94 2.06.94-2.06 2.06-.94-2.06-.94-.94-2.06-.94 2.06-2.06.94zm-11 1L8.5 8.5l.94-2.06 2.06-.94-2.06-.94L8.5 2.5l-.94 2.06-2.06.94zm10 10l.94 2.06.94-2.06 2.06-.94-2.06-.94-.94-2.06-.94 2.06-2.06.94z\"/><path d=\"M17.41 7.96l-1.37-1.37c-.4-.4-.92-.59-1.43-.59-.52 0-1.04.2-1.43.59L10.3 9.45l-7.72 7.72c-.78.78-.78 2.05 0 2.83L4 21.41c.39.39.9.59 1.41.59.51 0 1.02-.2 1.41-.59l7.78-7.78 2.81-2.81c.8-.78.8-2.07 0-2.86zM5.41 20L4 18.59l7.72-7.72 1.47 1.35L5.41 20z\"/>\n",
              "  </svg>\n",
              "      </button>\n",
              "      \n",
              "  <style>\n",
              "    .colab-df-container {\n",
              "      display:flex;\n",
              "      flex-wrap:wrap;\n",
              "      gap: 12px;\n",
              "    }\n",
              "\n",
              "    .colab-df-convert {\n",
              "      background-color: #E8F0FE;\n",
              "      border: none;\n",
              "      border-radius: 50%;\n",
              "      cursor: pointer;\n",
              "      display: none;\n",
              "      fill: #1967D2;\n",
              "      height: 32px;\n",
              "      padding: 0 0 0 0;\n",
              "      width: 32px;\n",
              "    }\n",
              "\n",
              "    .colab-df-convert:hover {\n",
              "      background-color: #E2EBFA;\n",
              "      box-shadow: 0px 1px 2px rgba(60, 64, 67, 0.3), 0px 1px 3px 1px rgba(60, 64, 67, 0.15);\n",
              "      fill: #174EA6;\n",
              "    }\n",
              "\n",
              "    [theme=dark] .colab-df-convert {\n",
              "      background-color: #3B4455;\n",
              "      fill: #D2E3FC;\n",
              "    }\n",
              "\n",
              "    [theme=dark] .colab-df-convert:hover {\n",
              "      background-color: #434B5C;\n",
              "      box-shadow: 0px 1px 3px 1px rgba(0, 0, 0, 0.15);\n",
              "      filter: drop-shadow(0px 1px 2px rgba(0, 0, 0, 0.3));\n",
              "      fill: #FFFFFF;\n",
              "    }\n",
              "  </style>\n",
              "\n",
              "      <script>\n",
              "        const buttonEl =\n",
              "          document.querySelector('#df-3ef1a0d8-6c7a-49c9-80b0-9d73ad95c928 button.colab-df-convert');\n",
              "        buttonEl.style.display =\n",
              "          google.colab.kernel.accessAllowed ? 'block' : 'none';\n",
              "\n",
              "        async function convertToInteractive(key) {\n",
              "          const element = document.querySelector('#df-3ef1a0d8-6c7a-49c9-80b0-9d73ad95c928');\n",
              "          const dataTable =\n",
              "            await google.colab.kernel.invokeFunction('convertToInteractive',\n",
              "                                                     [key], {});\n",
              "          if (!dataTable) return;\n",
              "\n",
              "          const docLinkHtml = 'Like what you see? Visit the ' +\n",
              "            '<a target=\"_blank\" href=https://colab.research.google.com/notebooks/data_table.ipynb>data table notebook</a>'\n",
              "            + ' to learn more about interactive tables.';\n",
              "          element.innerHTML = '';\n",
              "          dataTable['output_type'] = 'display_data';\n",
              "          await google.colab.output.renderOutput(dataTable, element);\n",
              "          const docLink = document.createElement('div');\n",
              "          docLink.innerHTML = docLinkHtml;\n",
              "          element.appendChild(docLink);\n",
              "        }\n",
              "      </script>\n",
              "    </div>\n",
              "  </div>\n",
              "  "
            ],
            "text/plain": [
              "             count unique         top  ...          50%          75%           max\n",
              "Date          2517   2517  2021-09-30  ...          NaN          NaN           NaN\n",
              "Open      2,517.00    NaN         NaN  ...         4.57        13.79         26.59\n",
              "High      2,517.00    NaN         NaN  ...         4.68        14.06         27.40\n",
              "Low       2,517.00    NaN         NaN  ...         4.43        13.49         25.94\n",
              "Close     2,517.00    NaN         NaN  ...         4.55        13.77         26.83\n",
              "Adj Close 2,517.00    NaN         NaN  ...         4.55        12.94         23.59\n",
              "Volume    2,517.00    NaN         NaN  ... 1,653,200.00 2,749,500.00 40,429,700.00\n",
              "\n",
              "[7 rows x 11 columns]"
            ]
          },
          "metadata": {},
          "execution_count": 22
        }
      ]
    },
    {
      "cell_type": "code",
      "source": [
        "# 컬럼 살펴보기\n",
        "wti_col = wti.columns\n",
        "print(\"wti features 개수:\",len(wti_col))\n",
        "print(wti_col)"
      ],
      "metadata": {
        "colab": {
          "base_uri": "https://localhost:8080/"
        },
        "id": "oExr1pUGWNqE",
        "outputId": "94b1ca03-6985-4f43-a4fa-543aeb705530"
      },
      "execution_count": 23,
      "outputs": [
        {
          "output_type": "stream",
          "name": "stdout",
          "text": [
            "wti features 개수: 7\n",
            "Index(['Date', 'Open', 'High', 'Low', 'Close', 'Adj Close', 'Volume'], dtype='object')\n"
          ]
        }
      ]
    },
    {
      "cell_type": "markdown",
      "source": [
        "### 📎 결측값 확인"
      ],
      "metadata": {
        "id": "0-OHBa9YWemb"
      }
    },
    {
      "cell_type": "code",
      "source": [
        "# 결측치의 합계 정렬 : 결측치 없음!\n",
        "wti.isna().sum().sort_values()"
      ],
      "metadata": {
        "colab": {
          "base_uri": "https://localhost:8080/"
        },
        "id": "ERSK3_pOWnRF",
        "outputId": "dcd92164-b60f-4523-8793-f16147540f6a"
      },
      "execution_count": 24,
      "outputs": [
        {
          "output_type": "execute_result",
          "data": {
            "text/plain": [
              "Date         0\n",
              "Open         0\n",
              "High         0\n",
              "Low          0\n",
              "Close        0\n",
              "Adj Close    0\n",
              "Volume       0\n",
              "dtype: int64"
            ]
          },
          "metadata": {},
          "execution_count": 24
        }
      ]
    },
    {
      "cell_type": "markdown",
      "source": [
        "### 📎 중복값 확인"
      ],
      "metadata": {
        "id": "0y5qPiRwWywl"
      }
    },
    {
      "cell_type": "code",
      "source": [
        "# 중복값 확인\b : 없음!\n",
        "wti.duplicated().sum()"
      ],
      "metadata": {
        "colab": {
          "base_uri": "https://localhost:8080/"
        },
        "id": "gpL6VfIFWt9e",
        "outputId": "418fb674-ba23-4f5d-8397-0957d61cbade"
      },
      "execution_count": 25,
      "outputs": [
        {
          "output_type": "execute_result",
          "data": {
            "text/plain": [
              "0"
            ]
          },
          "metadata": {},
          "execution_count": 25
        }
      ]
    },
    {
      "cell_type": "markdown",
      "source": [
        "## 2. Create Windows"
      ],
      "metadata": {
        "id": "AAzeofdYi8pi"
      }
    },
    {
      "cell_type": "markdown",
      "source": [
        "LSTM의 기본개념\n",
        "* 이전 데이터 정보 일부를 다음 분석에 넘겨주는 알고리즘\n",
        "* 최근 'window_size'일 간의 데이터를 보고 내일 것을 예측한다.\n",
        "* window_size = 50 이라하면, 50개를 보고 1개를 예측한다는 의미\n",
        "\n",
        "window\n",
        "* window안에 들어가는 데이터는 51개\n",
        "* 51개 안에서 50개를 보고 1개를 예측한다\n",
        "* 그 다음 window는 한칸씩 밀면서 동일하게 한다"
      ],
      "metadata": {
        "id": "qmgDXA7cjJm8"
      }
    },
    {
      "cell_type": "code",
      "source": [
        "# target : 종가\n",
        "close_prices_w = wti['Close'].values"
      ],
      "metadata": {
        "id": "c1y-c73UXQfG"
      },
      "execution_count": 81,
      "outputs": []
    },
    {
      "cell_type": "code",
      "execution_count": 82,
      "metadata": {
        "id": "BCsKwRpC1JCf"
      },
      "outputs": [],
      "source": [
        "seq_len = 50 # window_size\n",
        "sequence_length = seq_len + 1 # 예측할 하나까지 추가해서 총 51개\n",
        "\n",
        "# result안에 리스트에 51개씩 저장\n",
        "result_w = []\n",
        "for index in range(len(close_prices_w) - sequence_length):\n",
        "    result_w.append(close_prices_w[index: index + sequence_length])"
      ]
    },
    {
      "cell_type": "markdown",
      "source": [
        "## 3. Normalize Data"
      ],
      "metadata": {
        "id": "VJL7reweko_Z"
      }
    },
    {
      "cell_type": "markdown",
      "source": [
        "모델의 성능을 높이기 위해 정규화\n",
        "* 첫 50개를 담은 데이터 박스를 0으로 만들어 기준을 잡고(자기 자신을 자기자신으로 나누고 1을 빼면 0)\n",
        "* 모든 윈도우를 돌면서 정규화"
      ],
      "metadata": {
        "id": "JHw1YjBpkwD0"
      }
    },
    {
      "cell_type": "code",
      "execution_count": 83,
      "metadata": {
        "id": "NfS8zow51JCf",
        "scrolled": true
      },
      "outputs": [],
      "source": [
        "def normalize_windows(data):\n",
        "    normalized_data = []\n",
        "    for window in data:\n",
        "        normalized_window = [((float(p) / float(window[0])) - 1) for p in window]\n",
        "        normalized_data.append(normalized_window)\n",
        "    return np.array(normalized_data)\n",
        "\n",
        "result_w = normalize_windows(result_w)"
      ]
    },
    {
      "cell_type": "markdown",
      "source": [
        "## 4. split train and test data"
      ],
      "metadata": {
        "id": "G1M77puvlwTy"
      }
    },
    {
      "cell_type": "code",
      "source": [
        "# split train_w and test data\n",
        "row = int(round(result_w.shape[0] * 0.9))\n",
        "train_w = result_w[:row, :]\n",
        "# 훈련의 강도를 높이기 위해, train_w set을 셔플해준다\n",
        "np.random.shuffle(train_w)\n",
        "\n",
        "# 51개 중 50개 훈련(X_train_w), 1개 예측(y_train)\n",
        "x_train_w = train_w[:, :-1] # 50개\n",
        "x_train_w = np.reshape(x_train_w, (x_train_w.shape[0], x_train_w.shape[1], 1))\n",
        "y_train_w = train_w[:, -1] # 1개\n",
        "\n",
        "x_test_w = result_w[row:, :-1] # 50개\n",
        "x_test_w = np.reshape(x_test_w, (x_test_w.shape[0], x_test_w.shape[1], 1))\n",
        "y_test_w = result_w[row:, -1] # 1개\n",
        "\n",
        "x_train_w.shape, x_test_w.shape\n",
        "# 2219일의 데이터를 가지고 학습해서, 247의 가격을 예측한다는 의미!"
      ],
      "metadata": {
        "colab": {
          "base_uri": "https://localhost:8080/"
        },
        "id": "-hyXww-9lsXL",
        "outputId": "952e1ead-496c-4d07-f8d7-e771425c33ad"
      },
      "execution_count": 84,
      "outputs": [
        {
          "output_type": "execute_result",
          "data": {
            "text/plain": [
              "((2219, 50, 1), (247, 50, 1))"
            ]
          },
          "metadata": {},
          "execution_count": 84
        }
      ]
    },
    {
      "cell_type": "code",
      "source": [
        "print(result_w)"
      ],
      "metadata": {
        "colab": {
          "base_uri": "https://localhost:8080/"
        },
        "id": "KDNw3XWMmXFs",
        "outputId": "9b55826f-e9ef-4f68-8187-aa404ff6d7d1"
      },
      "execution_count": 85,
      "outputs": [
        {
          "output_type": "stream",
          "name": "stdout",
          "text": [
            "[[ 0.         -0.02392817 -0.07577259 ... -0.29162509 -0.28464603\n",
            "  -0.29511462]\n",
            " [ 0.          0.00462963  0.         ... -0.1712963  -0.14814815\n",
            "  -0.09259259]\n",
            " [ 0.         -0.02760736 -0.00306748 ... -0.06441718 -0.07668712\n",
            "  -0.10736196]\n",
            " ...\n",
            " [ 0.         -0.00428266 -0.00642398 ... -0.30835118 -0.248394\n",
            "  -0.22698073]\n",
            " [ 0.         -0.00215054 -0.08172043 ... -0.24516129 -0.22365591\n",
            "  -0.2516129 ]\n",
            " [ 0.         -0.07974138 -0.08836207 ... -0.22198276 -0.25\n",
            "  -0.20689655]]\n"
          ]
        }
      ]
    },
    {
      "cell_type": "markdown",
      "source": [
        "## 5. Build a Model & Training"
      ],
      "metadata": {
        "id": "wFP-XJQMmfmn"
      }
    },
    {
      "cell_type": "code",
      "execution_count": 31,
      "metadata": {
        "colab": {
          "base_uri": "https://localhost:8080/"
        },
        "id": "ElF8HlKi1JCg",
        "outputId": "39ba1785-af09-4872-aa57-fb8d0f101401"
      },
      "outputs": [
        {
          "output_type": "stream",
          "name": "stdout",
          "text": [
            "Model: \"sequential\"\n",
            "_________________________________________________________________\n",
            " Layer (type)                Output Shape              Param #   \n",
            "=================================================================\n",
            " lstm (LSTM)                 (None, 50, 50)            10400     \n",
            "                                                                 \n",
            " lstm_1 (LSTM)               (None, 64)                29440     \n",
            "                                                                 \n",
            " dense (Dense)               (None, 1)                 65        \n",
            "                                                                 \n",
            "=================================================================\n",
            "Total params: 39,905\n",
            "Trainable params: 39,905\n",
            "Non-trainable params: 0\n",
            "_________________________________________________________________\n"
          ]
        }
      ],
      "source": [
        "# Sequential : 모델을 순차적으로 정의하는 클래스\n",
        "model = Sequential()\n",
        "\n",
        "# 중간 유닛 50,64는 수정하면서 모델 성능 보기!\n",
        "model.add(LSTM(50, return_sequences=True, input_shape=(50, 1)))\n",
        "\n",
        "model.add(LSTM(64, return_sequences=False))\n",
        "\n",
        "model.add(Dense(1, activation='linear'))\n",
        "\n",
        "# 손실함수 : Mean Squared Error\n",
        "model.compile(loss='mse', optimizer='rmsprop')\n",
        "\n",
        "model.summary()"
      ]
    },
    {
      "cell_type": "code",
      "source": [
        "# batch_size : 한번에 몇개씩 묶어서 학습시킬 것인지\n",
        "# epochs : 반복횟수\n",
        "# validation_data = test_data 옵션을 사용한다고해서 모델이 test를 학습하는 것이 아님\n",
        "model.fit(x_train_w, y_train_w,\n",
        "    validation_data=(x_test_w, y_test_w),\n",
        "    batch_size=10,\n",
        "    epochs=20)"
      ],
      "metadata": {
        "colab": {
          "base_uri": "https://localhost:8080/"
        },
        "id": "8I-dYH5ZnPxf",
        "outputId": "855ef674-37b1-4f76-b484-8722caad2ee5"
      },
      "execution_count": 86,
      "outputs": [
        {
          "output_type": "stream",
          "name": "stdout",
          "text": [
            "Epoch 1/20\n",
            "222/222 [==============================] - 6s 27ms/step - loss: 0.0023 - val_loss: 0.0030\n",
            "Epoch 2/20\n",
            "222/222 [==============================] - 6s 27ms/step - loss: 0.0022 - val_loss: 0.0030\n",
            "Epoch 3/20\n",
            "222/222 [==============================] - 6s 27ms/step - loss: 0.0022 - val_loss: 0.0030\n",
            "Epoch 4/20\n",
            "222/222 [==============================] - 6s 27ms/step - loss: 0.0022 - val_loss: 0.0030\n",
            "Epoch 5/20\n",
            "222/222 [==============================] - 6s 26ms/step - loss: 0.0022 - val_loss: 0.0031\n",
            "Epoch 6/20\n",
            "222/222 [==============================] - 6s 27ms/step - loss: 0.0022 - val_loss: 0.0030\n",
            "Epoch 7/20\n",
            "222/222 [==============================] - 6s 26ms/step - loss: 0.0021 - val_loss: 0.0036\n",
            "Epoch 8/20\n",
            "222/222 [==============================] - 6s 26ms/step - loss: 0.0022 - val_loss: 0.0033\n",
            "Epoch 9/20\n",
            "222/222 [==============================] - 6s 27ms/step - loss: 0.0022 - val_loss: 0.0035\n",
            "Epoch 10/20\n",
            "222/222 [==============================] - 6s 27ms/step - loss: 0.0022 - val_loss: 0.0033\n",
            "Epoch 11/20\n",
            "222/222 [==============================] - 6s 27ms/step - loss: 0.0022 - val_loss: 0.0031\n",
            "Epoch 12/20\n",
            "222/222 [==============================] - 6s 27ms/step - loss: 0.0021 - val_loss: 0.0032\n",
            "Epoch 13/20\n",
            "222/222 [==============================] - 6s 26ms/step - loss: 0.0021 - val_loss: 0.0031\n",
            "Epoch 14/20\n",
            "222/222 [==============================] - 6s 26ms/step - loss: 0.0021 - val_loss: 0.0037\n",
            "Epoch 15/20\n",
            "222/222 [==============================] - 6s 27ms/step - loss: 0.0022 - val_loss: 0.0030\n",
            "Epoch 16/20\n",
            "222/222 [==============================] - 6s 26ms/step - loss: 0.0021 - val_loss: 0.0033\n",
            "Epoch 17/20\n",
            "222/222 [==============================] - 6s 26ms/step - loss: 0.0022 - val_loss: 0.0038\n",
            "Epoch 18/20\n",
            "222/222 [==============================] - 6s 27ms/step - loss: 0.0021 - val_loss: 0.0030\n",
            "Epoch 19/20\n",
            "222/222 [==============================] - 6s 27ms/step - loss: 0.0022 - val_loss: 0.0030\n",
            "Epoch 20/20\n",
            "222/222 [==============================] - 6s 27ms/step - loss: 0.0021 - val_loss: 0.0030\n"
          ]
        },
        {
          "output_type": "execute_result",
          "data": {
            "text/plain": [
              "<keras.callbacks.History at 0x7fc3e9d50710>"
            ]
          },
          "metadata": {},
          "execution_count": 86
        }
      ]
    },
    {
      "cell_type": "markdown",
      "source": [
        "## 6. Evaluation"
      ],
      "metadata": {
        "id": "CVKubBe_nU3R"
      }
    },
    {
      "cell_type": "code",
      "source": [
        "# blue : 실제 데이터, orange : 예측 데이터\n",
        "# x축 : 날짜, y축 : 주식 가격\n",
        "pred_w = model.predict(x_test_w)\n",
        "\n",
        "fig = plt.figure(facecolor='white', figsize=(20, 10))\n",
        "ax = fig.add_subplot(111)\n",
        "\n",
        "# 범례 추가\n",
        "ax.plot(y_test_w, label='True')\n",
        "ax.plot(pred_w, label='Prediction')\n",
        "ax.legend(fontsize = 15, loc = 'upper right')\n",
        "\n",
        "# 그리드\n",
        "plt.grid(True)\n",
        "\n",
        "# 글자 크기 변경\n",
        "plt.title('WTI price by date', fontsize=20)\n",
        "plt.xlabel(xlabel='Data', fontsize = 15);\n",
        "plt.ylabel(ylabel='price',fontsize = 15);\n",
        "\n",
        "plt.show()"
      ],
      "metadata": {
        "colab": {
          "base_uri": "https://localhost:8080/",
          "height": 635
        },
        "id": "LtIo0NHIworB",
        "outputId": "470694b9-88fe-4143-9645-1001df24ab06"
      },
      "execution_count": 87,
      "outputs": [
        {
          "output_type": "display_data",
          "data": {
            "image/png": "[encoded data removed]",
            "text/plain": [
              "<Figure size 1440x720 with 1 Axes>"
            ]
          },
          "metadata": {
            "image/png": {
              "width": 1174,
              "height": 618
            }
          }
        }
      ]
    },
    {
      "cell_type": "code",
      "source": [
        "# 가격예측 회귀 -> mse \n",
        "from sklearn.metrics import mean_squared_error\n",
        "pred = model.predict(x_test_w)\n",
        "np.sqrt(mean_squared_error(y_test_w, pred_w))"
      ],
      "metadata": {
        "colab": {
          "base_uri": "https://localhost:8080/"
        },
        "id": "7SLFeCQnxGQw",
        "outputId": "0d54b702-9d1f-4a6f-df0c-ab506113d3e9"
      },
      "execution_count": 88,
      "outputs": [
        {
          "output_type": "execute_result",
          "data": {
            "text/plain": [
              "0.05440521037013731"
            ]
          },
          "metadata": {},
          "execution_count": 88
        }
      ]
    },
    {
      "cell_type": "markdown",
      "source": [
        "# 2. 한국 유가 관련 미래에셋 TIGER ETF 원유선물(130680)"
      ],
      "metadata": {
        "id": "y-acTgCxbMCg"
      }
    },
    {
      "cell_type": "markdown",
      "source": [
        "## 1. Load Dataset"
      ],
      "metadata": {
        "id": "u-3vtBQJbauV"
      }
    },
    {
      "cell_type": "code",
      "source": [
        "tiger = pd.read_csv(\"/content/drive/MyDrive/Colab Notebooks/codestates/section4 project/130680 역사적 자료(20120101_20220108).csv\")\n",
        "tiger"
      ],
      "metadata": {
        "colab": {
          "base_uri": "https://localhost:8080/",
          "height": 419
        },
        "id": "JNREYIdldS73",
        "outputId": "cb584402-2e55-4c97-c248-4fb41cb7b369"
      },
      "execution_count": 35,
      "outputs": [
        {
          "output_type": "execute_result",
          "data": {
            "text/html": [
              "\n",
              "  <div id=\"df-a817b8de-0772-4459-868f-6fd9f32d5541\">\n",
              "    <div class=\"colab-df-container\">\n",
              "      <div>\n",
              "<style scoped>\n",
              "    .dataframe tbody tr th:only-of-type {\n",
              "        vertical-align: middle;\n",
              "    }\n",
              "\n",
              "    .dataframe tbody tr th {\n",
              "        vertical-align: top;\n",
              "    }\n",
              "\n",
              "    .dataframe thead th {\n",
              "        text-align: right;\n",
              "    }\n",
              "</style>\n",
              "<table border=\"1\" class=\"dataframe\">\n",
              "  <thead>\n",
              "    <tr style=\"text-align: right;\">\n",
              "      <th></th>\n",
              "      <th>날짜</th>\n",
              "      <th>종가</th>\n",
              "      <th>오픈</th>\n",
              "      <th>고가</th>\n",
              "      <th>저가</th>\n",
              "      <th>거래량</th>\n",
              "      <th>변동 %</th>\n",
              "    </tr>\n",
              "  </thead>\n",
              "  <tbody>\n",
              "    <tr>\n",
              "      <th>0</th>\n",
              "      <td>2022년 01월 07일</td>\n",
              "      <td>3,755</td>\n",
              "      <td>3,710</td>\n",
              "      <td>3,760</td>\n",
              "      <td>3,710</td>\n",
              "      <td>470.11K</td>\n",
              "      <td>3.73%</td>\n",
              "    </tr>\n",
              "    <tr>\n",
              "      <th>1</th>\n",
              "      <td>2022년 01월 06일</td>\n",
              "      <td>3,620</td>\n",
              "      <td>3,625</td>\n",
              "      <td>3,645</td>\n",
              "      <td>3,605</td>\n",
              "      <td>159.03K</td>\n",
              "      <td>0.00%</td>\n",
              "    </tr>\n",
              "    <tr>\n",
              "      <th>2</th>\n",
              "      <td>2022년 01월 05일</td>\n",
              "      <td>3,620</td>\n",
              "      <td>3,630</td>\n",
              "      <td>3,640</td>\n",
              "      <td>3,610</td>\n",
              "      <td>85.66K</td>\n",
              "      <td>1.12%</td>\n",
              "    </tr>\n",
              "    <tr>\n",
              "      <th>3</th>\n",
              "      <td>2022년 01월 04일</td>\n",
              "      <td>3,580</td>\n",
              "      <td>3,580</td>\n",
              "      <td>3,605</td>\n",
              "      <td>3,570</td>\n",
              "      <td>131.75K</td>\n",
              "      <td>0.28%</td>\n",
              "    </tr>\n",
              "    <tr>\n",
              "      <th>4</th>\n",
              "      <td>2022년 01월 03일</td>\n",
              "      <td>3,570</td>\n",
              "      <td>3,570</td>\n",
              "      <td>3,575</td>\n",
              "      <td>3,545</td>\n",
              "      <td>123.10K</td>\n",
              "      <td>-0.70%</td>\n",
              "    </tr>\n",
              "    <tr>\n",
              "      <th>...</th>\n",
              "      <td>...</td>\n",
              "      <td>...</td>\n",
              "      <td>...</td>\n",
              "      <td>...</td>\n",
              "      <td>...</td>\n",
              "      <td>...</td>\n",
              "      <td>...</td>\n",
              "    </tr>\n",
              "    <tr>\n",
              "      <th>2237</th>\n",
              "      <td>2013년 03월 05일</td>\n",
              "      <td>9,355</td>\n",
              "      <td>9,425</td>\n",
              "      <td>9,425</td>\n",
              "      <td>9,340</td>\n",
              "      <td>12.95K</td>\n",
              "      <td>-1.01%</td>\n",
              "    </tr>\n",
              "    <tr>\n",
              "      <th>2238</th>\n",
              "      <td>2013년 03월 04일</td>\n",
              "      <td>9,450</td>\n",
              "      <td>9,645</td>\n",
              "      <td>9,645</td>\n",
              "      <td>9,355</td>\n",
              "      <td>25.23K</td>\n",
              "      <td>-2.48%</td>\n",
              "    </tr>\n",
              "    <tr>\n",
              "      <th>2239</th>\n",
              "      <td>2013년 02월 28일</td>\n",
              "      <td>9,690</td>\n",
              "      <td>9,650</td>\n",
              "      <td>9,700</td>\n",
              "      <td>9,600</td>\n",
              "      <td>4.80K</td>\n",
              "      <td>0.99%</td>\n",
              "    </tr>\n",
              "    <tr>\n",
              "      <th>2240</th>\n",
              "      <td>2013년 02월 27일</td>\n",
              "      <td>9,595</td>\n",
              "      <td>9,530</td>\n",
              "      <td>9,595</td>\n",
              "      <td>9,520</td>\n",
              "      <td>8.58K</td>\n",
              "      <td>0.16%</td>\n",
              "    </tr>\n",
              "    <tr>\n",
              "      <th>2241</th>\n",
              "      <td>2013년 02월 26일</td>\n",
              "      <td>9,580</td>\n",
              "      <td>9,690</td>\n",
              "      <td>9,690</td>\n",
              "      <td>9,515</td>\n",
              "      <td>9.49K</td>\n",
              "      <td>-0.42%</td>\n",
              "    </tr>\n",
              "  </tbody>\n",
              "</table>\n",
              "<p>2242 rows × 7 columns</p>\n",
              "</div>\n",
              "      <button class=\"colab-df-convert\" onclick=\"convertToInteractive('df-a817b8de-0772-4459-868f-6fd9f32d5541')\"\n",
              "              title=\"Convert this dataframe to an interactive table.\"\n",
              "              style=\"display:none;\">\n",
              "        \n",
              "  <svg xmlns=\"http://www.w3.org/2000/svg\" height=\"24px\"viewBox=\"0 0 24 24\"\n",
              "       width=\"24px\">\n",
              "    <path d=\"M0 0h24v24H0V0z\" fill=\"none\"/>\n",
              "    <path d=\"M18.56 5.44l.94 2.06.94-2.06 2.06-.94-2.06-.94-.94-2.06-.94 2.06-2.06.94zm-11 1L8.5 8.5l.94-2.06 2.06-.94-2.06-.94L8.5 2.5l-.94 2.06-2.06.94zm10 10l.94 2.06.94-2.06 2.06-.94-2.06-.94-.94-2.06-.94 2.06-2.06.94z\"/><path d=\"M17.41 7.96l-1.37-1.37c-.4-.4-.92-.59-1.43-.59-.52 0-1.04.2-1.43.59L10.3 9.45l-7.72 7.72c-.78.78-.78 2.05 0 2.83L4 21.41c.39.39.9.59 1.41.59.51 0 1.02-.2 1.41-.59l7.78-7.78 2.81-2.81c.8-.78.8-2.07 0-2.86zM5.41 20L4 18.59l7.72-7.72 1.47 1.35L5.41 20z\"/>\n",
              "  </svg>\n",
              "      </button>\n",
              "      \n",
              "  <style>\n",
              "    .colab-df-container {\n",
              "      display:flex;\n",
              "      flex-wrap:wrap;\n",
              "      gap: 12px;\n",
              "    }\n",
              "\n",
              "    .colab-df-convert {\n",
              "      background-color: #E8F0FE;\n",
              "      border: none;\n",
              "      border-radius: 50%;\n",
              "      cursor: pointer;\n",
              "      display: none;\n",
              "      fill: #1967D2;\n",
              "      height: 32px;\n",
              "      padding: 0 0 0 0;\n",
              "      width: 32px;\n",
              "    }\n",
              "\n",
              "    .colab-df-convert:hover {\n",
              "      background-color: #E2EBFA;\n",
              "      box-shadow: 0px 1px 2px rgba(60, 64, 67, 0.3), 0px 1px 3px 1px rgba(60, 64, 67, 0.15);\n",
              "      fill: #174EA6;\n",
              "    }\n",
              "\n",
              "    [theme=dark] .colab-df-convert {\n",
              "      background-color: #3B4455;\n",
              "      fill: #D2E3FC;\n",
              "    }\n",
              "\n",
              "    [theme=dark] .colab-df-convert:hover {\n",
              "      background-color: #434B5C;\n",
              "      box-shadow: 0px 1px 3px 1px rgba(0, 0, 0, 0.15);\n",
              "      filter: drop-shadow(0px 1px 2px rgba(0, 0, 0, 0.3));\n",
              "      fill: #FFFFFF;\n",
              "    }\n",
              "  </style>\n",
              "\n",
              "      <script>\n",
              "        const buttonEl =\n",
              "          document.querySelector('#df-a817b8de-0772-4459-868f-6fd9f32d5541 button.colab-df-convert');\n",
              "        buttonEl.style.display =\n",
              "          google.colab.kernel.accessAllowed ? 'block' : 'none';\n",
              "\n",
              "        async function convertToInteractive(key) {\n",
              "          const element = document.querySelector('#df-a817b8de-0772-4459-868f-6fd9f32d5541');\n",
              "          const dataTable =\n",
              "            await google.colab.kernel.invokeFunction('convertToInteractive',\n",
              "                                                     [key], {});\n",
              "          if (!dataTable) return;\n",
              "\n",
              "          const docLinkHtml = 'Like what you see? Visit the ' +\n",
              "            '<a target=\"_blank\" href=https://colab.research.google.com/notebooks/data_table.ipynb>data table notebook</a>'\n",
              "            + ' to learn more about interactive tables.';\n",
              "          element.innerHTML = '';\n",
              "          dataTable['output_type'] = 'display_data';\n",
              "          await google.colab.output.renderOutput(dataTable, element);\n",
              "          const docLink = document.createElement('div');\n",
              "          docLink.innerHTML = docLinkHtml;\n",
              "          element.appendChild(docLink);\n",
              "        }\n",
              "      </script>\n",
              "    </div>\n",
              "  </div>\n",
              "  "
            ],
            "text/plain": [
              "                 날짜     종가     오픈     고가     저가      거래량    변동 %\n",
              "0     2022년 01월 07일  3,755  3,710  3,760  3,710  470.11K   3.73%\n",
              "1     2022년 01월 06일  3,620  3,625  3,645  3,605  159.03K   0.00%\n",
              "2     2022년 01월 05일  3,620  3,630  3,640  3,610   85.66K   1.12%\n",
              "3     2022년 01월 04일  3,580  3,580  3,605  3,570  131.75K   0.28%\n",
              "4     2022년 01월 03일  3,570  3,570  3,575  3,545  123.10K  -0.70%\n",
              "...             ...    ...    ...    ...    ...      ...     ...\n",
              "2237  2013년 03월 05일  9,355  9,425  9,425  9,340   12.95K  -1.01%\n",
              "2238  2013년 03월 04일  9,450  9,645  9,645  9,355   25.23K  -2.48%\n",
              "2239  2013년 02월 28일  9,690  9,650  9,700  9,600    4.80K   0.99%\n",
              "2240  2013년 02월 27일  9,595  9,530  9,595  9,520    8.58K   0.16%\n",
              "2241  2013년 02월 26일  9,580  9,690  9,690  9,515    9.49K  -0.42%\n",
              "\n",
              "[2242 rows x 7 columns]"
            ]
          },
          "metadata": {},
          "execution_count": 35
        }
      ]
    },
    {
      "cell_type": "markdown",
      "source": [
        "### 📎 데이터 살펴보기"
      ],
      "metadata": {
        "id": "YdqKDSfVbc20"
      }
    },
    {
      "cell_type": "code",
      "source": [
        "tiger.tail()"
      ],
      "metadata": {
        "colab": {
          "base_uri": "https://localhost:8080/",
          "height": 204
        },
        "id": "C8UV-qD8gcS-",
        "outputId": "450ce521-510f-4a3c-99f3-5ef45e14b8a6"
      },
      "execution_count": 36,
      "outputs": [
        {
          "output_type": "execute_result",
          "data": {
            "text/html": [
              "\n",
              "  <div id=\"df-b0a40627-d117-4ba8-81a3-2366c52c1e8a\">\n",
              "    <div class=\"colab-df-container\">\n",
              "      <div>\n",
              "<style scoped>\n",
              "    .dataframe tbody tr th:only-of-type {\n",
              "        vertical-align: middle;\n",
              "    }\n",
              "\n",
              "    .dataframe tbody tr th {\n",
              "        vertical-align: top;\n",
              "    }\n",
              "\n",
              "    .dataframe thead th {\n",
              "        text-align: right;\n",
              "    }\n",
              "</style>\n",
              "<table border=\"1\" class=\"dataframe\">\n",
              "  <thead>\n",
              "    <tr style=\"text-align: right;\">\n",
              "      <th></th>\n",
              "      <th>날짜</th>\n",
              "      <th>종가</th>\n",
              "      <th>오픈</th>\n",
              "      <th>고가</th>\n",
              "      <th>저가</th>\n",
              "      <th>거래량</th>\n",
              "      <th>변동 %</th>\n",
              "    </tr>\n",
              "  </thead>\n",
              "  <tbody>\n",
              "    <tr>\n",
              "      <th>2237</th>\n",
              "      <td>2013년 03월 05일</td>\n",
              "      <td>9,355</td>\n",
              "      <td>9,425</td>\n",
              "      <td>9,425</td>\n",
              "      <td>9,340</td>\n",
              "      <td>12.95K</td>\n",
              "      <td>-1.01%</td>\n",
              "    </tr>\n",
              "    <tr>\n",
              "      <th>2238</th>\n",
              "      <td>2013년 03월 04일</td>\n",
              "      <td>9,450</td>\n",
              "      <td>9,645</td>\n",
              "      <td>9,645</td>\n",
              "      <td>9,355</td>\n",
              "      <td>25.23K</td>\n",
              "      <td>-2.48%</td>\n",
              "    </tr>\n",
              "    <tr>\n",
              "      <th>2239</th>\n",
              "      <td>2013년 02월 28일</td>\n",
              "      <td>9,690</td>\n",
              "      <td>9,650</td>\n",
              "      <td>9,700</td>\n",
              "      <td>9,600</td>\n",
              "      <td>4.80K</td>\n",
              "      <td>0.99%</td>\n",
              "    </tr>\n",
              "    <tr>\n",
              "      <th>2240</th>\n",
              "      <td>2013년 02월 27일</td>\n",
              "      <td>9,595</td>\n",
              "      <td>9,530</td>\n",
              "      <td>9,595</td>\n",
              "      <td>9,520</td>\n",
              "      <td>8.58K</td>\n",
              "      <td>0.16%</td>\n",
              "    </tr>\n",
              "    <tr>\n",
              "      <th>2241</th>\n",
              "      <td>2013년 02월 26일</td>\n",
              "      <td>9,580</td>\n",
              "      <td>9,690</td>\n",
              "      <td>9,690</td>\n",
              "      <td>9,515</td>\n",
              "      <td>9.49K</td>\n",
              "      <td>-0.42%</td>\n",
              "    </tr>\n",
              "  </tbody>\n",
              "</table>\n",
              "</div>\n",
              "      <button class=\"colab-df-convert\" onclick=\"convertToInteractive('df-b0a40627-d117-4ba8-81a3-2366c52c1e8a')\"\n",
              "              title=\"Convert this dataframe to an interactive table.\"\n",
              "              style=\"display:none;\">\n",
              "        \n",
              "  <svg xmlns=\"http://www.w3.org/2000/svg\" height=\"24px\"viewBox=\"0 0 24 24\"\n",
              "       width=\"24px\">\n",
              "    <path d=\"M0 0h24v24H0V0z\" fill=\"none\"/>\n",
              "    <path d=\"M18.56 5.44l.94 2.06.94-2.06 2.06-.94-2.06-.94-.94-2.06-.94 2.06-2.06.94zm-11 1L8.5 8.5l.94-2.06 2.06-.94-2.06-.94L8.5 2.5l-.94 2.06-2.06.94zm10 10l.94 2.06.94-2.06 2.06-.94-2.06-.94-.94-2.06-.94 2.06-2.06.94z\"/><path d=\"M17.41 7.96l-1.37-1.37c-.4-.4-.92-.59-1.43-.59-.52 0-1.04.2-1.43.59L10.3 9.45l-7.72 7.72c-.78.78-.78 2.05 0 2.83L4 21.41c.39.39.9.59 1.41.59.51 0 1.02-.2 1.41-.59l7.78-7.78 2.81-2.81c.8-.78.8-2.07 0-2.86zM5.41 20L4 18.59l7.72-7.72 1.47 1.35L5.41 20z\"/>\n",
              "  </svg>\n",
              "      </button>\n",
              "      \n",
              "  <style>\n",
              "    .colab-df-container {\n",
              "      display:flex;\n",
              "      flex-wrap:wrap;\n",
              "      gap: 12px;\n",
              "    }\n",
              "\n",
              "    .colab-df-convert {\n",
              "      background-color: #E8F0FE;\n",
              "      border: none;\n",
              "      border-radius: 50%;\n",
              "      cursor: pointer;\n",
              "      display: none;\n",
              "      fill: #1967D2;\n",
              "      height: 32px;\n",
              "      padding: 0 0 0 0;\n",
              "      width: 32px;\n",
              "    }\n",
              "\n",
              "    .colab-df-convert:hover {\n",
              "      background-color: #E2EBFA;\n",
              "      box-shadow: 0px 1px 2px rgba(60, 64, 67, 0.3), 0px 1px 3px 1px rgba(60, 64, 67, 0.15);\n",
              "      fill: #174EA6;\n",
              "    }\n",
              "\n",
              "    [theme=dark] .colab-df-convert {\n",
              "      background-color: #3B4455;\n",
              "      fill: #D2E3FC;\n",
              "    }\n",
              "\n",
              "    [theme=dark] .colab-df-convert:hover {\n",
              "      background-color: #434B5C;\n",
              "      box-shadow: 0px 1px 3px 1px rgba(0, 0, 0, 0.15);\n",
              "      filter: drop-shadow(0px 1px 2px rgba(0, 0, 0, 0.3));\n",
              "      fill: #FFFFFF;\n",
              "    }\n",
              "  </style>\n",
              "\n",
              "      <script>\n",
              "        const buttonEl =\n",
              "          document.querySelector('#df-b0a40627-d117-4ba8-81a3-2366c52c1e8a button.colab-df-convert');\n",
              "        buttonEl.style.display =\n",
              "          google.colab.kernel.accessAllowed ? 'block' : 'none';\n",
              "\n",
              "        async function convertToInteractive(key) {\n",
              "          const element = document.querySelector('#df-b0a40627-d117-4ba8-81a3-2366c52c1e8a');\n",
              "          const dataTable =\n",
              "            await google.colab.kernel.invokeFunction('convertToInteractive',\n",
              "                                                     [key], {});\n",
              "          if (!dataTable) return;\n",
              "\n",
              "          const docLinkHtml = 'Like what you see? Visit the ' +\n",
              "            '<a target=\"_blank\" href=https://colab.research.google.com/notebooks/data_table.ipynb>data table notebook</a>'\n",
              "            + ' to learn more about interactive tables.';\n",
              "          element.innerHTML = '';\n",
              "          dataTable['output_type'] = 'display_data';\n",
              "          await google.colab.output.renderOutput(dataTable, element);\n",
              "          const docLink = document.createElement('div');\n",
              "          docLink.innerHTML = docLinkHtml;\n",
              "          element.appendChild(docLink);\n",
              "        }\n",
              "      </script>\n",
              "    </div>\n",
              "  </div>\n",
              "  "
            ],
            "text/plain": [
              "                 날짜     종가     오픈     고가     저가     거래량    변동 %\n",
              "2237  2013년 03월 05일  9,355  9,425  9,425  9,340  12.95K  -1.01%\n",
              "2238  2013년 03월 04일  9,450  9,645  9,645  9,355  25.23K  -2.48%\n",
              "2239  2013년 02월 28일  9,690  9,650  9,700  9,600   4.80K   0.99%\n",
              "2240  2013년 02월 27일  9,595  9,530  9,595  9,520   8.58K   0.16%\n",
              "2241  2013년 02월 26일  9,580  9,690  9,690  9,515   9.49K  -0.42%"
            ]
          },
          "metadata": {},
          "execution_count": 36
        }
      ]
    },
    {
      "cell_type": "code",
      "source": [
        "tiger.info()"
      ],
      "metadata": {
        "colab": {
          "base_uri": "https://localhost:8080/"
        },
        "id": "uvakjiRkgesS",
        "outputId": "20d72bac-3c46-4cf7-9832-8f94fd094875"
      },
      "execution_count": 37,
      "outputs": [
        {
          "output_type": "stream",
          "name": "stdout",
          "text": [
            "<class 'pandas.core.frame.DataFrame'>\n",
            "RangeIndex: 2242 entries, 0 to 2241\n",
            "Data columns (total 7 columns):\n",
            " #   Column  Non-Null Count  Dtype \n",
            "---  ------  --------------  ----- \n",
            " 0   날짜      2242 non-null   object\n",
            " 1   종가      2242 non-null   object\n",
            " 2   오픈      2242 non-null   object\n",
            " 3   고가      2242 non-null   object\n",
            " 4   저가      2242 non-null   object\n",
            " 5   거래량     2242 non-null   object\n",
            " 6   변동 %    2242 non-null   object\n",
            "dtypes: object(7)\n",
            "memory usage: 122.7+ KB\n"
          ]
        }
      ]
    },
    {
      "cell_type": "code",
      "source": [
        "tiger.shape"
      ],
      "metadata": {
        "colab": {
          "base_uri": "https://localhost:8080/"
        },
        "id": "LqfZsVZYgkjX",
        "outputId": "a1d8520a-3470-4a58-ff5e-4131f1f63744"
      },
      "execution_count": 38,
      "outputs": [
        {
          "output_type": "execute_result",
          "data": {
            "text/plain": [
              "(2242, 7)"
            ]
          },
          "metadata": {},
          "execution_count": 38
        }
      ]
    },
    {
      "cell_type": "code",
      "source": [
        "# describe\n",
        "tiger.describe(include='all').T"
      ],
      "metadata": {
        "colab": {
          "base_uri": "https://localhost:8080/",
          "height": 266
        },
        "id": "eEn48DtwgkDE",
        "outputId": "03b58ef7-e3e3-4ea2-d105-1fb92dc5b131"
      },
      "execution_count": 39,
      "outputs": [
        {
          "output_type": "execute_result",
          "data": {
            "text/html": [
              "\n",
              "  <div id=\"df-16d63feb-b66f-4431-8788-67a786c96e6a\">\n",
              "    <div class=\"colab-df-container\">\n",
              "      <div>\n",
              "<style scoped>\n",
              "    .dataframe tbody tr th:only-of-type {\n",
              "        vertical-align: middle;\n",
              "    }\n",
              "\n",
              "    .dataframe tbody tr th {\n",
              "        vertical-align: top;\n",
              "    }\n",
              "\n",
              "    .dataframe thead th {\n",
              "        text-align: right;\n",
              "    }\n",
              "</style>\n",
              "<table border=\"1\" class=\"dataframe\">\n",
              "  <thead>\n",
              "    <tr style=\"text-align: right;\">\n",
              "      <th></th>\n",
              "      <th>count</th>\n",
              "      <th>unique</th>\n",
              "      <th>top</th>\n",
              "      <th>freq</th>\n",
              "    </tr>\n",
              "  </thead>\n",
              "  <tbody>\n",
              "    <tr>\n",
              "      <th>날짜</th>\n",
              "      <td>2242</td>\n",
              "      <td>2242</td>\n",
              "      <td>2021년 11월 08일</td>\n",
              "      <td>1</td>\n",
              "    </tr>\n",
              "    <tr>\n",
              "      <th>종가</th>\n",
              "      <td>2242</td>\n",
              "      <td>961</td>\n",
              "      <td>4,045</td>\n",
              "      <td>15</td>\n",
              "    </tr>\n",
              "    <tr>\n",
              "      <th>오픈</th>\n",
              "      <td>2242</td>\n",
              "      <td>929</td>\n",
              "      <td>4,090</td>\n",
              "      <td>12</td>\n",
              "    </tr>\n",
              "    <tr>\n",
              "      <th>고가</th>\n",
              "      <td>2242</td>\n",
              "      <td>942</td>\n",
              "      <td>4,220</td>\n",
              "      <td>12</td>\n",
              "    </tr>\n",
              "    <tr>\n",
              "      <th>저가</th>\n",
              "      <td>2242</td>\n",
              "      <td>932</td>\n",
              "      <td>4,090</td>\n",
              "      <td>12</td>\n",
              "    </tr>\n",
              "    <tr>\n",
              "      <th>거래량</th>\n",
              "      <td>2242</td>\n",
              "      <td>1954</td>\n",
              "      <td>-</td>\n",
              "      <td>39</td>\n",
              "    </tr>\n",
              "    <tr>\n",
              "      <th>변동 %</th>\n",
              "      <td>2242</td>\n",
              "      <td>710</td>\n",
              "      <td>0.00%</td>\n",
              "      <td>135</td>\n",
              "    </tr>\n",
              "  </tbody>\n",
              "</table>\n",
              "</div>\n",
              "      <button class=\"colab-df-convert\" onclick=\"convertToInteractive('df-16d63feb-b66f-4431-8788-67a786c96e6a')\"\n",
              "              title=\"Convert this dataframe to an interactive table.\"\n",
              "              style=\"display:none;\">\n",
              "        \n",
              "  <svg xmlns=\"http://www.w3.org/2000/svg\" height=\"24px\"viewBox=\"0 0 24 24\"\n",
              "       width=\"24px\">\n",
              "    <path d=\"M0 0h24v24H0V0z\" fill=\"none\"/>\n",
              "    <path d=\"M18.56 5.44l.94 2.06.94-2.06 2.06-.94-2.06-.94-.94-2.06-.94 2.06-2.06.94zm-11 1L8.5 8.5l.94-2.06 2.06-.94-2.06-.94L8.5 2.5l-.94 2.06-2.06.94zm10 10l.94 2.06.94-2.06 2.06-.94-2.06-.94-.94-2.06-.94 2.06-2.06.94z\"/><path d=\"M17.41 7.96l-1.37-1.37c-.4-.4-.92-.59-1.43-.59-.52 0-1.04.2-1.43.59L10.3 9.45l-7.72 7.72c-.78.78-.78 2.05 0 2.83L4 21.41c.39.39.9.59 1.41.59.51 0 1.02-.2 1.41-.59l7.78-7.78 2.81-2.81c.8-.78.8-2.07 0-2.86zM5.41 20L4 18.59l7.72-7.72 1.47 1.35L5.41 20z\"/>\n",
              "  </svg>\n",
              "      </button>\n",
              "      \n",
              "  <style>\n",
              "    .colab-df-container {\n",
              "      display:flex;\n",
              "      flex-wrap:wrap;\n",
              "      gap: 12px;\n",
              "    }\n",
              "\n",
              "    .colab-df-convert {\n",
              "      background-color: #E8F0FE;\n",
              "      border: none;\n",
              "      border-radius: 50%;\n",
              "      cursor: pointer;\n",
              "      display: none;\n",
              "      fill: #1967D2;\n",
              "      height: 32px;\n",
              "      padding: 0 0 0 0;\n",
              "      width: 32px;\n",
              "    }\n",
              "\n",
              "    .colab-df-convert:hover {\n",
              "      background-color: #E2EBFA;\n",
              "      box-shadow: 0px 1px 2px rgba(60, 64, 67, 0.3), 0px 1px 3px 1px rgba(60, 64, 67, 0.15);\n",
              "      fill: #174EA6;\n",
              "    }\n",
              "\n",
              "    [theme=dark] .colab-df-convert {\n",
              "      background-color: #3B4455;\n",
              "      fill: #D2E3FC;\n",
              "    }\n",
              "\n",
              "    [theme=dark] .colab-df-convert:hover {\n",
              "      background-color: #434B5C;\n",
              "      box-shadow: 0px 1px 3px 1px rgba(0, 0, 0, 0.15);\n",
              "      filter: drop-shadow(0px 1px 2px rgba(0, 0, 0, 0.3));\n",
              "      fill: #FFFFFF;\n",
              "    }\n",
              "  </style>\n",
              "\n",
              "      <script>\n",
              "        const buttonEl =\n",
              "          document.querySelector('#df-16d63feb-b66f-4431-8788-67a786c96e6a button.colab-df-convert');\n",
              "        buttonEl.style.display =\n",
              "          google.colab.kernel.accessAllowed ? 'block' : 'none';\n",
              "\n",
              "        async function convertToInteractive(key) {\n",
              "          const element = document.querySelector('#df-16d63feb-b66f-4431-8788-67a786c96e6a');\n",
              "          const dataTable =\n",
              "            await google.colab.kernel.invokeFunction('convertToInteractive',\n",
              "                                                     [key], {});\n",
              "          if (!dataTable) return;\n",
              "\n",
              "          const docLinkHtml = 'Like what you see? Visit the ' +\n",
              "            '<a target=\"_blank\" href=https://colab.research.google.com/notebooks/data_table.ipynb>data table notebook</a>'\n",
              "            + ' to learn more about interactive tables.';\n",
              "          element.innerHTML = '';\n",
              "          dataTable['output_type'] = 'display_data';\n",
              "          await google.colab.output.renderOutput(dataTable, element);\n",
              "          const docLink = document.createElement('div');\n",
              "          docLink.innerHTML = docLinkHtml;\n",
              "          element.appendChild(docLink);\n",
              "        }\n",
              "      </script>\n",
              "    </div>\n",
              "  </div>\n",
              "  "
            ],
            "text/plain": [
              "     count unique            top freq\n",
              "날짜    2242   2242  2021년 11월 08일    1\n",
              "종가    2242    961          4,045   15\n",
              "오픈    2242    929          4,090   12\n",
              "고가    2242    942          4,220   12\n",
              "저가    2242    932          4,090   12\n",
              "거래량   2242   1954              -   39\n",
              "변동 %  2242    710          0.00%  135"
            ]
          },
          "metadata": {},
          "execution_count": 39
        }
      ]
    },
    {
      "cell_type": "code",
      "source": [
        "# 컬럼 살펴보기\n",
        "tiger_col = tiger.columns\n",
        "print(\"tiger features 개수:\",len(tiger_col))\n",
        "print(tiger_col)"
      ],
      "metadata": {
        "colab": {
          "base_uri": "https://localhost:8080/"
        },
        "id": "dne3Rz_GgkyO",
        "outputId": "3220b31d-9d64-46e0-ca76-62357f732f0d"
      },
      "execution_count": 40,
      "outputs": [
        {
          "output_type": "stream",
          "name": "stdout",
          "text": [
            "tiger features 개수: 7\n",
            "Index(['날짜', '종가', '오픈', '고가', '저가', '거래량', '변동 %'], dtype='object')\n"
          ]
        }
      ]
    },
    {
      "cell_type": "markdown",
      "source": [
        "### 📎 결측값 확인"
      ],
      "metadata": {
        "id": "QbIQIKf9bguz"
      }
    },
    {
      "cell_type": "code",
      "source": [
        "# 결측치의 합계 정렬 : 결측치 없음!\n",
        "tiger.isna().sum().sort_values()"
      ],
      "metadata": {
        "colab": {
          "base_uri": "https://localhost:8080/"
        },
        "id": "RLR_AcK3gtXS",
        "outputId": "f7e3a703-aa04-448a-85ac-b5d71bea2fe2"
      },
      "execution_count": 41,
      "outputs": [
        {
          "output_type": "execute_result",
          "data": {
            "text/plain": [
              "날짜      0\n",
              "종가      0\n",
              "오픈      0\n",
              "고가      0\n",
              "저가      0\n",
              "거래량     0\n",
              "변동 %    0\n",
              "dtype: int64"
            ]
          },
          "metadata": {},
          "execution_count": 41
        }
      ]
    },
    {
      "cell_type": "markdown",
      "source": [
        "### 📎 중복값 확인"
      ],
      "metadata": {
        "id": "5ntghsBwbisW"
      }
    },
    {
      "cell_type": "code",
      "source": [
        "# 중복값 확인\b : 없음!\n",
        "tiger.duplicated().sum()"
      ],
      "metadata": {
        "colab": {
          "base_uri": "https://localhost:8080/"
        },
        "id": "EBYGFx48gxGr",
        "outputId": "ebb2772b-db66-4953-e961-336b69df8fa7"
      },
      "execution_count": 42,
      "outputs": [
        {
          "output_type": "execute_result",
          "data": {
            "text/plain": [
              "0"
            ]
          },
          "metadata": {},
          "execution_count": 42
        }
      ]
    },
    {
      "cell_type": "markdown",
      "source": [
        "### 📎 컬럼 데이터타입 변경"
      ],
      "metadata": {
        "id": "BVGw_28yhSBL"
      }
    },
    {
      "cell_type": "code",
      "source": [
        "tiger.dtypes"
      ],
      "metadata": {
        "colab": {
          "base_uri": "https://localhost:8080/"
        },
        "id": "9S0dk4nohQ-g",
        "outputId": "0332423b-90d0-42d4-d0dc-b4780276c4de"
      },
      "execution_count": 43,
      "outputs": [
        {
          "output_type": "execute_result",
          "data": {
            "text/plain": [
              "날짜      object\n",
              "종가      object\n",
              "오픈      object\n",
              "고가      object\n",
              "저가      object\n",
              "거래량     object\n",
              "변동 %    object\n",
              "dtype: object"
            ]
          },
          "metadata": {},
          "execution_count": 43
        }
      ]
    },
    {
      "cell_type": "code",
      "source": [
        "# , 문자 제거\n",
        "tiger[\"종가\"] = tiger[\"종가\"].str.replace(pat=r'[^\\w]', repl=r'', regex=True)\n",
        "tiger[\"오픈\"] = tiger[\"오픈\"].str.replace(pat=r'[^\\w]', repl=r'', regex=True)\n",
        "tiger[\"고가\"] = tiger[\"고가\"].str.replace(pat=r'[^\\w]', repl=r'', regex=True)\n",
        "tiger[\"저가\"] = tiger[\"저가\"].str.replace(pat=r'[^\\w]', repl=r'', regex=True)"
      ],
      "metadata": {
        "id": "jkhhBHQ3hXn4"
      },
      "execution_count": 44,
      "outputs": []
    },
    {
      "cell_type": "code",
      "source": [
        "#거래량의 단위 K인, 변동 % 문자 제거 & numerical type으로 변경\n",
        "def to_numeric(string):\n",
        "    if string[-1] == 'K':\n",
        "        string = float(string.replace('K',''))\n",
        "\n",
        "    elif string[-1] == 'M':\n",
        "        string = float(string.replace('M',''))\n",
        "\n",
        "    elif string[-1] == '%':\n",
        "        string = float(string.replace('%',''))\n",
        "\n",
        "    return string\n",
        "\n",
        "# volume_col=tiger.columns[-2:]\n",
        "volume_col=tiger.columns\n",
        "\n",
        "for column in volume_col:\n",
        "    tiger[column]=tiger[column].apply(to_numeric)"
      ],
      "metadata": {
        "id": "tqyF8VzEhkLd"
      },
      "execution_count": 45,
      "outputs": []
    },
    {
      "cell_type": "code",
      "source": [
        "# float로 변경\n",
        "tiger =tiger.astype({'종가':'float'})\n",
        "tiger =tiger.astype({'오픈':'float'})\n",
        "tiger =tiger.astype({'고가':'float'})\n",
        "tiger =tiger.astype({'저가':'float'})\n",
        "tiger =tiger.astype({'변동 %':'float'})"
      ],
      "metadata": {
        "id": "k687gyshhtEN"
      },
      "execution_count": 46,
      "outputs": []
    },
    {
      "cell_type": "code",
      "source": [
        "# 날짜의 년, 월, 일 문자 제거\n",
        "def remove_string(string):\n",
        "    string = string.replace('년','')\n",
        "    string = string.replace('월','')\n",
        "    string = string.replace('일','')\n",
        "    string = string.replace(' ','-')\n",
        "\n",
        "    return string\n",
        "\n",
        "tiger['날짜']=tiger['날짜'].apply(remove_string)\n",
        "tiger.dtypes"
      ],
      "metadata": {
        "colab": {
          "base_uri": "https://localhost:8080/"
        },
        "id": "gFfLr8lPjDbn",
        "outputId": "2b0de277-03d1-4b03-babc-3580a7082fb4"
      },
      "execution_count": 47,
      "outputs": [
        {
          "output_type": "execute_result",
          "data": {
            "text/plain": [
              "날짜       object\n",
              "종가      float64\n",
              "오픈      float64\n",
              "고가      float64\n",
              "저가      float64\n",
              "거래량      object\n",
              "변동 %    float64\n",
              "dtype: object"
            ]
          },
          "metadata": {},
          "execution_count": 47
        }
      ]
    },
    {
      "cell_type": "code",
      "source": [
        "tiger"
      ],
      "metadata": {
        "colab": {
          "base_uri": "https://localhost:8080/",
          "height": 419
        },
        "id": "y3zZtLXXinLX",
        "outputId": "c0a68024-93fa-4934-9694-4bc8259d70e3"
      },
      "execution_count": 48,
      "outputs": [
        {
          "output_type": "execute_result",
          "data": {
            "text/html": [
              "\n",
              "  <div id=\"df-fb90e54f-2097-44f7-9708-5716947bc25f\">\n",
              "    <div class=\"colab-df-container\">\n",
              "      <div>\n",
              "<style scoped>\n",
              "    .dataframe tbody tr th:only-of-type {\n",
              "        vertical-align: middle;\n",
              "    }\n",
              "\n",
              "    .dataframe tbody tr th {\n",
              "        vertical-align: top;\n",
              "    }\n",
              "\n",
              "    .dataframe thead th {\n",
              "        text-align: right;\n",
              "    }\n",
              "</style>\n",
              "<table border=\"1\" class=\"dataframe\">\n",
              "  <thead>\n",
              "    <tr style=\"text-align: right;\">\n",
              "      <th></th>\n",
              "      <th>날짜</th>\n",
              "      <th>종가</th>\n",
              "      <th>오픈</th>\n",
              "      <th>고가</th>\n",
              "      <th>저가</th>\n",
              "      <th>거래량</th>\n",
              "      <th>변동 %</th>\n",
              "    </tr>\n",
              "  </thead>\n",
              "  <tbody>\n",
              "    <tr>\n",
              "      <th>0</th>\n",
              "      <td>2022-01-07</td>\n",
              "      <td>3,755.00</td>\n",
              "      <td>3,710.00</td>\n",
              "      <td>3,760.00</td>\n",
              "      <td>3,710.00</td>\n",
              "      <td>470.11</td>\n",
              "      <td>3.73</td>\n",
              "    </tr>\n",
              "    <tr>\n",
              "      <th>1</th>\n",
              "      <td>2022-01-06</td>\n",
              "      <td>3,620.00</td>\n",
              "      <td>3,625.00</td>\n",
              "      <td>3,645.00</td>\n",
              "      <td>3,605.00</td>\n",
              "      <td>159.03</td>\n",
              "      <td>0.00</td>\n",
              "    </tr>\n",
              "    <tr>\n",
              "      <th>2</th>\n",
              "      <td>2022-01-05</td>\n",
              "      <td>3,620.00</td>\n",
              "      <td>3,630.00</td>\n",
              "      <td>3,640.00</td>\n",
              "      <td>3,610.00</td>\n",
              "      <td>85.66</td>\n",
              "      <td>1.12</td>\n",
              "    </tr>\n",
              "    <tr>\n",
              "      <th>3</th>\n",
              "      <td>2022-01-04</td>\n",
              "      <td>3,580.00</td>\n",
              "      <td>3,580.00</td>\n",
              "      <td>3,605.00</td>\n",
              "      <td>3,570.00</td>\n",
              "      <td>131.75</td>\n",
              "      <td>0.28</td>\n",
              "    </tr>\n",
              "    <tr>\n",
              "      <th>4</th>\n",
              "      <td>2022-01-03</td>\n",
              "      <td>3,570.00</td>\n",
              "      <td>3,570.00</td>\n",
              "      <td>3,575.00</td>\n",
              "      <td>3,545.00</td>\n",
              "      <td>123.10</td>\n",
              "      <td>-0.70</td>\n",
              "    </tr>\n",
              "    <tr>\n",
              "      <th>...</th>\n",
              "      <td>...</td>\n",
              "      <td>...</td>\n",
              "      <td>...</td>\n",
              "      <td>...</td>\n",
              "      <td>...</td>\n",
              "      <td>...</td>\n",
              "      <td>...</td>\n",
              "    </tr>\n",
              "    <tr>\n",
              "      <th>2237</th>\n",
              "      <td>2013-03-05</td>\n",
              "      <td>9,355.00</td>\n",
              "      <td>9,425.00</td>\n",
              "      <td>9,425.00</td>\n",
              "      <td>9,340.00</td>\n",
              "      <td>12.95</td>\n",
              "      <td>-1.01</td>\n",
              "    </tr>\n",
              "    <tr>\n",
              "      <th>2238</th>\n",
              "      <td>2013-03-04</td>\n",
              "      <td>9,450.00</td>\n",
              "      <td>9,645.00</td>\n",
              "      <td>9,645.00</td>\n",
              "      <td>9,355.00</td>\n",
              "      <td>25.23</td>\n",
              "      <td>-2.48</td>\n",
              "    </tr>\n",
              "    <tr>\n",
              "      <th>2239</th>\n",
              "      <td>2013-02-28</td>\n",
              "      <td>9,690.00</td>\n",
              "      <td>9,650.00</td>\n",
              "      <td>9,700.00</td>\n",
              "      <td>9,600.00</td>\n",
              "      <td>4.80</td>\n",
              "      <td>0.99</td>\n",
              "    </tr>\n",
              "    <tr>\n",
              "      <th>2240</th>\n",
              "      <td>2013-02-27</td>\n",
              "      <td>9,595.00</td>\n",
              "      <td>9,530.00</td>\n",
              "      <td>9,595.00</td>\n",
              "      <td>9,520.00</td>\n",
              "      <td>8.58</td>\n",
              "      <td>0.16</td>\n",
              "    </tr>\n",
              "    <tr>\n",
              "      <th>2241</th>\n",
              "      <td>2013-02-26</td>\n",
              "      <td>9,580.00</td>\n",
              "      <td>9,690.00</td>\n",
              "      <td>9,690.00</td>\n",
              "      <td>9,515.00</td>\n",
              "      <td>9.49</td>\n",
              "      <td>-0.42</td>\n",
              "    </tr>\n",
              "  </tbody>\n",
              "</table>\n",
              "<p>2242 rows × 7 columns</p>\n",
              "</div>\n",
              "      <button class=\"colab-df-convert\" onclick=\"convertToInteractive('df-fb90e54f-2097-44f7-9708-5716947bc25f')\"\n",
              "              title=\"Convert this dataframe to an interactive table.\"\n",
              "              style=\"display:none;\">\n",
              "        \n",
              "  <svg xmlns=\"http://www.w3.org/2000/svg\" height=\"24px\"viewBox=\"0 0 24 24\"\n",
              "       width=\"24px\">\n",
              "    <path d=\"M0 0h24v24H0V0z\" fill=\"none\"/>\n",
              "    <path d=\"M18.56 5.44l.94 2.06.94-2.06 2.06-.94-2.06-.94-.94-2.06-.94 2.06-2.06.94zm-11 1L8.5 8.5l.94-2.06 2.06-.94-2.06-.94L8.5 2.5l-.94 2.06-2.06.94zm10 10l.94 2.06.94-2.06 2.06-.94-2.06-.94-.94-2.06-.94 2.06-2.06.94z\"/><path d=\"M17.41 7.96l-1.37-1.37c-.4-.4-.92-.59-1.43-.59-.52 0-1.04.2-1.43.59L10.3 9.45l-7.72 7.72c-.78.78-.78 2.05 0 2.83L4 21.41c.39.39.9.59 1.41.59.51 0 1.02-.2 1.41-.59l7.78-7.78 2.81-2.81c.8-.78.8-2.07 0-2.86zM5.41 20L4 18.59l7.72-7.72 1.47 1.35L5.41 20z\"/>\n",
              "  </svg>\n",
              "      </button>\n",
              "      \n",
              "  <style>\n",
              "    .colab-df-container {\n",
              "      display:flex;\n",
              "      flex-wrap:wrap;\n",
              "      gap: 12px;\n",
              "    }\n",
              "\n",
              "    .colab-df-convert {\n",
              "      background-color: #E8F0FE;\n",
              "      border: none;\n",
              "      border-radius: 50%;\n",
              "      cursor: pointer;\n",
              "      display: none;\n",
              "      fill: #1967D2;\n",
              "      height: 32px;\n",
              "      padding: 0 0 0 0;\n",
              "      width: 32px;\n",
              "    }\n",
              "\n",
              "    .colab-df-convert:hover {\n",
              "      background-color: #E2EBFA;\n",
              "      box-shadow: 0px 1px 2px rgba(60, 64, 67, 0.3), 0px 1px 3px 1px rgba(60, 64, 67, 0.15);\n",
              "      fill: #174EA6;\n",
              "    }\n",
              "\n",
              "    [theme=dark] .colab-df-convert {\n",
              "      background-color: #3B4455;\n",
              "      fill: #D2E3FC;\n",
              "    }\n",
              "\n",
              "    [theme=dark] .colab-df-convert:hover {\n",
              "      background-color: #434B5C;\n",
              "      box-shadow: 0px 1px 3px 1px rgba(0, 0, 0, 0.15);\n",
              "      filter: drop-shadow(0px 1px 2px rgba(0, 0, 0, 0.3));\n",
              "      fill: #FFFFFF;\n",
              "    }\n",
              "  </style>\n",
              "\n",
              "      <script>\n",
              "        const buttonEl =\n",
              "          document.querySelector('#df-fb90e54f-2097-44f7-9708-5716947bc25f button.colab-df-convert');\n",
              "        buttonEl.style.display =\n",
              "          google.colab.kernel.accessAllowed ? 'block' : 'none';\n",
              "\n",
              "        async function convertToInteractive(key) {\n",
              "          const element = document.querySelector('#df-fb90e54f-2097-44f7-9708-5716947bc25f');\n",
              "          const dataTable =\n",
              "            await google.colab.kernel.invokeFunction('convertToInteractive',\n",
              "                                                     [key], {});\n",
              "          if (!dataTable) return;\n",
              "\n",
              "          const docLinkHtml = 'Like what you see? Visit the ' +\n",
              "            '<a target=\"_blank\" href=https://colab.research.google.com/notebooks/data_table.ipynb>data table notebook</a>'\n",
              "            + ' to learn more about interactive tables.';\n",
              "          element.innerHTML = '';\n",
              "          dataTable['output_type'] = 'display_data';\n",
              "          await google.colab.output.renderOutput(dataTable, element);\n",
              "          const docLink = document.createElement('div');\n",
              "          docLink.innerHTML = docLinkHtml;\n",
              "          element.appendChild(docLink);\n",
              "        }\n",
              "      </script>\n",
              "    </div>\n",
              "  </div>\n",
              "  "
            ],
            "text/plain": [
              "              날짜       종가       오픈       고가       저가    거래량  변동 %\n",
              "0     2022-01-07 3,755.00 3,710.00 3,760.00 3,710.00 470.11  3.73\n",
              "1     2022-01-06 3,620.00 3,625.00 3,645.00 3,605.00 159.03  0.00\n",
              "2     2022-01-05 3,620.00 3,630.00 3,640.00 3,610.00  85.66  1.12\n",
              "3     2022-01-04 3,580.00 3,580.00 3,605.00 3,570.00 131.75  0.28\n",
              "4     2022-01-03 3,570.00 3,570.00 3,575.00 3,545.00 123.10 -0.70\n",
              "...          ...      ...      ...      ...      ...    ...   ...\n",
              "2237  2013-03-05 9,355.00 9,425.00 9,425.00 9,340.00  12.95 -1.01\n",
              "2238  2013-03-04 9,450.00 9,645.00 9,645.00 9,355.00  25.23 -2.48\n",
              "2239  2013-02-28 9,690.00 9,650.00 9,700.00 9,600.00   4.80  0.99\n",
              "2240  2013-02-27 9,595.00 9,530.00 9,595.00 9,520.00   8.58  0.16\n",
              "2241  2013-02-26 9,580.00 9,690.00 9,690.00 9,515.00   9.49 -0.42\n",
              "\n",
              "[2242 rows x 7 columns]"
            ]
          },
          "metadata": {},
          "execution_count": 48
        }
      ]
    },
    {
      "cell_type": "code",
      "source": [
        "tiger.dtypes"
      ],
      "metadata": {
        "colab": {
          "base_uri": "https://localhost:8080/"
        },
        "id": "a-ONcwrjie7n",
        "outputId": "c441a591-850e-48dd-8db2-7f8e7bf98571"
      },
      "execution_count": 49,
      "outputs": [
        {
          "output_type": "execute_result",
          "data": {
            "text/plain": [
              "날짜       object\n",
              "종가      float64\n",
              "오픈      float64\n",
              "고가      float64\n",
              "저가      float64\n",
              "거래량      object\n",
              "변동 %    float64\n",
              "dtype: object"
            ]
          },
          "metadata": {},
          "execution_count": 49
        }
      ]
    },
    {
      "cell_type": "markdown",
      "source": [
        "## 2. Create Windows"
      ],
      "metadata": {
        "id": "x8JIKVLmbkr-"
      }
    },
    {
      "cell_type": "code",
      "source": [
        "# target : 종가\n",
        "close_prices = tiger['종가'].values"
      ],
      "metadata": {
        "id": "q0jp1qa-hB1i"
      },
      "execution_count": 50,
      "outputs": []
    },
    {
      "cell_type": "code",
      "source": [
        "seq_len = 50 # window_size\n",
        "sequence_length = seq_len + 1 # 예측할 하나까지 추가해서 총 51개\n",
        "\n",
        "# result안에 리스트에 51개씩 저장\n",
        "result = []\n",
        "for index in range(len(close_prices) - sequence_length):\n",
        "    result.append(close_prices[index: index + sequence_length])"
      ],
      "metadata": {
        "id": "B3X96X8ZhLch"
      },
      "execution_count": 51,
      "outputs": []
    },
    {
      "cell_type": "markdown",
      "source": [
        "## 3. Normalize Data"
      ],
      "metadata": {
        "id": "CRauniP7bnNv"
      }
    },
    {
      "cell_type": "code",
      "source": [
        "def normalize_windows(data):\n",
        "    normalized_data = []\n",
        "    for window in data:\n",
        "        normalized_window = [((float(p) / float(window[0])) - 1) for p in window]\n",
        "        normalized_data.append(normalized_window)\n",
        "    return np.array(normalized_data)\n",
        "\n",
        "result = normalize_windows(result)"
      ],
      "metadata": {
        "id": "f7iRACZuhOM2"
      },
      "execution_count": 52,
      "outputs": []
    },
    {
      "cell_type": "markdown",
      "source": [
        "## 4. split train and test data"
      ],
      "metadata": {
        "id": "IseJFhyjbpVt"
      }
    },
    {
      "cell_type": "code",
      "source": [
        "# split train and test data\n",
        "row = int(round(result.shape[0] * 0.9))\n",
        "train = result[:row, :]\n",
        "# 훈련의 강도를 높이기 위해, train set을 셔플해준다\n",
        "np.random.shuffle(train)\n",
        "\n",
        "# 51개 중 50개 훈련(X_train), 1개 예측(y_train)\n",
        "x_train = train[:, :-1] # 50개\n",
        "x_train = np.reshape(x_train, (x_train.shape[0], x_train.shape[1], 1))\n",
        "y_train = train[:, -1] # 1개\n",
        "\n",
        "x_test = result[row:, :-1] # 50개\n",
        "x_test = np.reshape(x_test, (x_test.shape[0], x_test.shape[1], 1))\n",
        "y_test = result[row:, -1] # 1개\n",
        "\n",
        "x_train.shape, x_test.shape\n",
        "# 1972 데이터를 가지고 학습해서, 219 가격을 예측한다는 의미!"
      ],
      "metadata": {
        "colab": {
          "base_uri": "https://localhost:8080/"
        },
        "id": "Mm-eZR_WjTzB",
        "outputId": "76bcb819-b353-4157-d437-3b50b46d4a99"
      },
      "execution_count": 53,
      "outputs": [
        {
          "output_type": "execute_result",
          "data": {
            "text/plain": [
              "((1972, 50, 1), (219, 50, 1))"
            ]
          },
          "metadata": {},
          "execution_count": 53
        }
      ]
    },
    {
      "cell_type": "code",
      "source": [
        "result"
      ],
      "metadata": {
        "colab": {
          "base_uri": "https://localhost:8080/"
        },
        "id": "lq3cW_jHjZoy",
        "outputId": "22abd672-34e9-40fe-953c-a902acd8a5e2"
      },
      "execution_count": 54,
      "outputs": [
        {
          "output_type": "execute_result",
          "data": {
            "text/plain": [
              "array([[ 0.        ,  0.01433121, -0.00796178, ..., -0.13375796,\n",
              "        -0.12101911, -0.11305732],\n",
              "       [ 0.        ,  0.00265604,  0.03585657, ..., -0.15405046,\n",
              "        -0.16334661, -0.16069057],\n",
              "       [ 0.        , -0.00721154, -0.00961538, ...,  0.11538462,\n",
              "         0.10697115,  0.12379808],\n",
              "       ...,\n",
              "       [ 0.        , -0.00102041,  0.00408163, ..., -0.04081633,\n",
              "        -0.04540816, -0.03571429],\n",
              "       [ 0.        ,  0.00510725,  0.0081716 , ..., -0.04443309,\n",
              "        -0.03472932, -0.0102145 ],\n",
              "       [ 0.        ,  0.00304878, -0.00304878, ..., -0.03963415,\n",
              "        -0.0152439 , -0.02489837]])"
            ]
          },
          "metadata": {},
          "execution_count": 54
        }
      ]
    },
    {
      "cell_type": "markdown",
      "source": [
        "## 5. Build a Model & Training"
      ],
      "metadata": {
        "id": "kRol23d_briH"
      }
    },
    {
      "cell_type": "code",
      "source": [
        "# Sequential : 모델을 순차적으로 정의하는 클래스\n",
        "model = Sequential()\n",
        "\n",
        "# 중간 유닛 50,64는 수정하면서 모델 성능 보기!\n",
        "model.add(LSTM(50, return_sequences=True, input_shape=(50, 1)))\n",
        "\n",
        "model.add(LSTM(64, return_sequences=False))\n",
        "\n",
        "model.add(Dense(1, activation='linear'))\n",
        "\n",
        "# 손실함수 : Mean Squared Error\n",
        "model.compile(loss='mse', optimizer='rmsprop')\n",
        "\n",
        "model.summary()"
      ],
      "metadata": {
        "colab": {
          "base_uri": "https://localhost:8080/"
        },
        "id": "j8OWcHqhjVzr",
        "outputId": "1f9c7485-812e-4c9c-b628-e3c55bb7a67d"
      },
      "execution_count": 55,
      "outputs": [
        {
          "output_type": "stream",
          "name": "stdout",
          "text": [
            "Model: \"sequential_1\"\n",
            "_________________________________________________________________\n",
            " Layer (type)                Output Shape              Param #   \n",
            "=================================================================\n",
            " lstm_2 (LSTM)               (None, 50, 50)            10400     \n",
            "                                                                 \n",
            " lstm_3 (LSTM)               (None, 64)                29440     \n",
            "                                                                 \n",
            " dense_1 (Dense)             (None, 1)                 65        \n",
            "                                                                 \n",
            "=================================================================\n",
            "Total params: 39,905\n",
            "Trainable params: 39,905\n",
            "Non-trainable params: 0\n",
            "_________________________________________________________________\n"
          ]
        }
      ]
    },
    {
      "cell_type": "code",
      "source": [
        "# batch_size : 한번에 몇개씩 묶어서 학습시킬 것인지\n",
        "# epochs : 반복횟수\n",
        "# validation_data = test_data 옵션을 사용한다고해서 모델이 test를 학습하는 것이 아님\n",
        "model.fit(x_train, y_train,\n",
        "    validation_data=(x_test, y_test),\n",
        "    batch_size=10,\n",
        "    epochs=20)"
      ],
      "metadata": {
        "colab": {
          "base_uri": "https://localhost:8080/"
        },
        "id": "NSXJVvcqjfcg",
        "outputId": "d8f73e68-2e67-4ee8-c0e5-dd985d5f3c88"
      },
      "execution_count": 56,
      "outputs": [
        {
          "output_type": "stream",
          "name": "stdout",
          "text": [
            "Epoch 1/20\n",
            "198/198 [==============================] - 10s 31ms/step - loss: 0.0060 - val_loss: 5.7338e-04\n",
            "Epoch 2/20\n",
            "198/198 [==============================] - 5s 26ms/step - loss: 0.0023 - val_loss: 3.9520e-04\n",
            "Epoch 3/20\n",
            "198/198 [==============================] - 5s 26ms/step - loss: 0.0019 - val_loss: 3.7622e-04\n",
            "Epoch 4/20\n",
            "198/198 [==============================] - 5s 26ms/step - loss: 0.0015 - val_loss: 5.2681e-04\n",
            "Epoch 5/20\n",
            "198/198 [==============================] - 5s 26ms/step - loss: 0.0012 - val_loss: 2.5994e-04\n",
            "Epoch 6/20\n",
            "198/198 [==============================] - 5s 26ms/step - loss: 0.0011 - val_loss: 2.0259e-04\n",
            "Epoch 7/20\n",
            "198/198 [==============================] - 5s 26ms/step - loss: 0.0010 - val_loss: 2.6253e-04\n",
            "Epoch 8/20\n",
            "198/198 [==============================] - 5s 26ms/step - loss: 8.3113e-04 - val_loss: 8.4905e-04\n",
            "Epoch 9/20\n",
            "198/198 [==============================] - 5s 26ms/step - loss: 8.4362e-04 - val_loss: 6.3295e-04\n",
            "Epoch 10/20\n",
            "198/198 [==============================] - 5s 27ms/step - loss: 8.7042e-04 - val_loss: 3.2253e-04\n",
            "Epoch 11/20\n",
            "198/198 [==============================] - 5s 27ms/step - loss: 8.2160e-04 - val_loss: 1.7350e-04\n",
            "Epoch 12/20\n",
            "198/198 [==============================] - 5s 27ms/step - loss: 8.2166e-04 - val_loss: 1.8281e-04\n",
            "Epoch 13/20\n",
            "198/198 [==============================] - 5s 27ms/step - loss: 8.2999e-04 - val_loss: 3.6491e-04\n",
            "Epoch 14/20\n",
            "198/198 [==============================] - 5s 27ms/step - loss: 7.9258e-04 - val_loss: 1.9161e-04\n",
            "Epoch 15/20\n",
            "198/198 [==============================] - 5s 27ms/step - loss: 7.9476e-04 - val_loss: 2.7117e-04\n",
            "Epoch 16/20\n",
            "198/198 [==============================] - 5s 27ms/step - loss: 7.8526e-04 - val_loss: 1.7643e-04\n",
            "Epoch 17/20\n",
            "198/198 [==============================] - 5s 27ms/step - loss: 7.4425e-04 - val_loss: 2.6149e-04\n",
            "Epoch 18/20\n",
            "198/198 [==============================] - 5s 27ms/step - loss: 7.6465e-04 - val_loss: 1.7033e-04\n",
            "Epoch 19/20\n",
            "198/198 [==============================] - 5s 27ms/step - loss: 7.6687e-04 - val_loss: 2.1204e-04\n",
            "Epoch 20/20\n",
            "198/198 [==============================] - 5s 27ms/step - loss: 7.8211e-04 - val_loss: 1.7485e-04\n"
          ]
        },
        {
          "output_type": "execute_result",
          "data": {
            "text/plain": [
              "<keras.callbacks.History at 0x7fc2f55a3c50>"
            ]
          },
          "metadata": {},
          "execution_count": 56
        }
      ]
    },
    {
      "cell_type": "markdown",
      "source": [
        "## 6. Evaluation"
      ],
      "metadata": {
        "id": "0FKW9pbebuo2"
      }
    },
    {
      "cell_type": "code",
      "source": [
        "!apt -qq -y install fonts-nanum > /dev/null\n",
        " \n",
        "import matplotlib.pyplot as plt\n",
        "import matplotlib.font_manager as fm\n",
        " \n",
        "fontpath = '/usr/share/fonts/truetype/nanum/NanumBarunGothic.ttf'\n",
        "font = fm.FontProperties(fname=fontpath, size=10)\n",
        "fm._rebuild()\n",
        " \n",
        "# 그래프에 retina display 적용\n",
        "%config InlineBackend.figure_format = 'retina'\n",
        " \n",
        "# Colab 의 한글 폰트 설정\n",
        "plt.rc('font', family='NanumBarunGothic')"
      ],
      "metadata": {
        "colab": {
          "base_uri": "https://localhost:8080/"
        },
        "id": "TV9PK8YFspH1",
        "outputId": "bd5bad58-6550-46c5-d447-d86149f7051f"
      },
      "execution_count": 57,
      "outputs": [
        {
          "output_type": "stream",
          "name": "stdout",
          "text": [
            "\n",
            "WARNING: apt does not have a stable CLI interface. Use with caution in scripts.\n",
            "\n"
          ]
        }
      ]
    },
    {
      "cell_type": "code",
      "source": [
        "# blue : 실제 데이터, orange : 예측 데이터\n",
        "# x축 : 날짜, y축 : 주식 가격\n",
        "pred = model.predict(x_test)\n",
        "fig = plt.figure(facecolor='white', figsize=(20, 10))\n",
        "ax = fig.add_subplot(111)\n",
        "\n",
        "# 범례 추가\n",
        "ax.plot(y_test, label='True')\n",
        "ax.plot(pred, label='Prediction')\n",
        "ax.legend(fontsize = 15, loc = 'upper right')\n",
        "\n",
        "# 그리드\n",
        "plt.grid(True)\n",
        "\n",
        "# 글자 크기 변경\n",
        "plt.title('TIGER ETF 원유선물(130680) price by date', fontsize=20)\n",
        "plt.xlabel(xlabel='Data', fontsize = 15);\n",
        "plt.ylabel(ylabel='price',fontsize = 15);\n",
        "\n",
        "plt.show()"
      ],
      "metadata": {
        "colab": {
          "base_uri": "https://localhost:8080/",
          "height": 635
        },
        "id": "45Z8SN2RjifG",
        "outputId": "87c0fb84-e0fa-4b14-9b96-6c9abcfd712b"
      },
      "execution_count": 58,
      "outputs": [
        {
          "output_type": "display_data",
          "data": {
            "image/png": "[encoded data removed]",
            "text/plain": [
              "<Figure size 1440x720 with 1 Axes>"
            ]
          },
          "metadata": {
            "image/png": {
              "width": 1180,
              "height": 618
            }
          }
        }
      ]
    },
    {
      "cell_type": "code",
      "source": [
        "# 가격예측 회귀 -> mse \n",
        "from sklearn.metrics import mean_squared_error\n",
        "pred = model.predict(x_test)\n",
        "np.sqrt(mean_squared_error(y_test, pred))"
      ],
      "metadata": {
        "colab": {
          "base_uri": "https://localhost:8080/"
        },
        "id": "1nX1fAhMjpdj",
        "outputId": "d977cb81-4787-46fa-ea33-f7b32d796a59"
      },
      "execution_count": 91,
      "outputs": [
        {
          "output_type": "execute_result",
          "data": {
            "text/plain": [
              "0.013286794522043595"
            ]
          },
          "metadata": {},
          "execution_count": 91
        }
      ]
    },
    {
      "cell_type": "markdown",
      "source": [
        "# 3. 한계\n",
        "* 오로지 단순하게 주식 데이터로만 예측을 하다보니, 증권가의 뉴스, 정책 변경, 제품의 판매량, 사회적인 정세 등의 외부적인 영향을 반영하지 못함\n",
        "\n",
        "* 그래프를 자세히 보면 학습을 해서 미래의 주가를 예측을 한다기보다는, 실제 데이터(True)가 먼저 움직이고 미세하게 예측 데이터(orange)가 따라가고 있음(주가 따라가기)\n",
        "\n",
        "### 🥲 향후 개선 방향\n",
        "* 관련 뉴스를 크롤링하여 감성 분석등을 통해 새로운 컬럼을 추가해주면 정확성이 개선될 것 같음\n",
        "* attention 모델로 예측 및 분석 시도해보고 싶음"
      ],
      "metadata": {
        "id": "Ut8gEkHtn13f"
      }
    },
    {
      "cell_type": "code",
      "source": [
        "# WTI와 국내 원유 선물 가격 차트 한번에 시각화\n",
        "\n",
        "plt.subplot(2, 1, 1) #2행,1열,중 1번째 위치\n",
        "plt.plot(pred_w, 'b', y_test_w, 'r')\n",
        "plt.title('WTI price by date')\n",
        "\n",
        "plt.subplot(2, 1, 2) #2행,1열,중 2번째 위치\n",
        "plt.plot(pred, 'b', y_test, 'r')\n",
        "plt.title('TIGER ETF 원유선물(130680) price by date')\n",
        "plt.tight_layout()"
      ],
      "metadata": {
        "colab": {
          "base_uri": "https://localhost:8080/",
          "height": 299
        },
        "id": "zFsIYZ96vhCM",
        "outputId": "3f8b7eee-274a-4db0-9b46-57cd17638de1"
      },
      "execution_count": 92,
      "outputs": [
        {
          "output_type": "display_data",
          "data": {
            "image/png": "[encoded data removed]",
            "text/plain": [
              "<Figure size 432x288 with 2 Axes>"
            ]
          },
          "metadata": {
            "image/png": {
              "width": 424,
              "height": 282
            },
            "needs_background": "light"
          }
        }
      ]
    }
  ],
  "metadata": {
    "colab": {
      "name": "ai08_임민정_project4(최종).ipynb",
      "provenance": [],
      "collapsed_sections": []
    },
    "kernelspec": {
      "display_name": "Python 3",
      "name": "python3"
    },
    "language_info": {
      "codemirror_mode": {
        "name": "ipython",
        "version": 3
      },
      "file_extension": ".py",
      "mimetype": "text/x-python",
      "name": "python",
      "nbconvert_exporter": "python",
      "pygments_lexer": "ipython3",
      "version": "3.9.7"
    },
    "accelerator": "GPU"
  },
  "nbformat": 4,
  "nbformat_minor": 0
}