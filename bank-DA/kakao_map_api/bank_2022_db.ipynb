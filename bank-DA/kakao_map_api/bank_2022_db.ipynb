{
 "cells": [
  {
   "cell_type": "code",
   "execution_count": 1,
   "metadata": {},
   "outputs": [],
   "source": [
    "import requests\n",
    "from tqdm import tqdm\n",
    "import time"
   ]
  },
  {
   "cell_type": "markdown",
   "metadata": {},
   "source": [
    "# 카카오 API\n",
    "\n",
    "- 키워드로 장소 검색: https://developers.kakao.com/docs/latest/ko/local/dev-guide#search-by-keyword\n",
    "- 카카오 개발자 API 키 발급: https://developers.kakao.com/\n",
    "  - App 생성\n",
    "  - REST API 키 복사, 붙여넣기"
   ]
  },
  {
   "cell_type": "code",
   "execution_count": 7,
   "metadata": {},
   "outputs": [
    {
     "name": "stdout",
     "output_type": "stream",
     "text": [
      "dict_keys(['documents', 'meta'])\n"
     ]
    }
   ],
   "source": [
    "app_key = 'KakaoAK ' + 'ac220588aa994372f4482942281b92a3'\n",
    "\n",
    "url = 'https://dapi.kakao.com/v2/local/search/keyword.json'\n",
    "\n",
    "params = {\n",
    "    'query': '은행',\n",
    "    'category_group_code': 'BK9', # 은행\n",
    "    'page': 45\n",
    "}\n",
    "\n",
    "headers = {\n",
    "    'Authorization': app_key\n",
    "}\n",
    "\n",
    "# json 형태로 받겠다\n",
    "res = requests.get(url, params=params, headers=headers).json()\n",
    "\n",
    "print(res.keys())"
   ]
  },
  {
   "cell_type": "code",
   "execution_count": 8,
   "metadata": {},
   "outputs": [
    {
     "data": {
      "text/plain": [
       "[{'address_name': '서울 강남구 역삼동 736-6',\n",
       "  'category_group_code': 'BK9',\n",
       "  'category_group_name': '은행',\n",
       "  'category_name': '금융,보험 > 금융서비스 > 은행 > 신한은행',\n",
       "  'distance': '',\n",
       "  'id': '10613842',\n",
       "  'phone': '02-552-4173',\n",
       "  'place_name': '신한은행 역삼역금융센터',\n",
       "  'place_url': 'http://place.map.kakao.com/10613842',\n",
       "  'road_address_name': '서울 강남구 테헤란로 146',\n",
       "  'x': '127.035419658988',\n",
       "  'y': '37.4999791613738'},\n",
       " {'address_name': '경기 수원시 팔달구 매산로1가 18',\n",
       "  'category_group_code': 'BK9',\n",
       "  'category_group_name': '은행',\n",
       "  'category_name': '금융,보험 > 금융서비스 > 은행 > KB국민은행',\n",
       "  'distance': '',\n",
       "  'id': '8827144',\n",
       "  'phone': '031-240-1911',\n",
       "  'place_name': 'KB국민은행 수원역지점',\n",
       "  'place_url': 'http://place.map.kakao.com/8827144',\n",
       "  'road_address_name': '경기 수원시 팔달구 덕영대로 924',\n",
       "  'x': '127.0004284084096',\n",
       "  'y': '37.26620118232164'},\n",
       " {'address_name': '서울 용산구 갈월동 92',\n",
       "  'category_group_code': 'BK9',\n",
       "  'category_group_name': '은행',\n",
       "  'category_name': '금융,보험 > 금융서비스 > 은행 > KB국민은행',\n",
       "  'distance': '',\n",
       "  'id': '8208081',\n",
       "  'phone': '1599-9999',\n",
       "  'place_name': 'KB국민은행 남영동지점',\n",
       "  'place_url': 'http://place.map.kakao.com/8208081',\n",
       "  'road_address_name': '서울 용산구 한강대로 273',\n",
       "  'x': '126.97211435551456',\n",
       "  'y': '37.54256978249622'},\n",
       " {'address_name': '부산 부산진구 부전동 260-47',\n",
       "  'category_group_code': 'BK9',\n",
       "  'category_group_name': '은행',\n",
       "  'category_name': '금융,보험 > 금융서비스 > 은행 > 신한은행',\n",
       "  'distance': '',\n",
       "  'id': '7979840',\n",
       "  'phone': '051-803-3301',\n",
       "  'place_name': '신한은행 부산서면지점',\n",
       "  'place_url': 'http://place.map.kakao.com/7979840',\n",
       "  'road_address_name': '부산 부산진구 새싹로 6',\n",
       "  'x': '129.058679584856',\n",
       "  'y': '35.1587138112833'},\n",
       " {'address_name': '부산 연제구 연산동 1287-3',\n",
       "  'category_group_code': 'BK9',\n",
       "  'category_group_name': '은행',\n",
       "  'category_name': '금융,보험 > 금융서비스 > 은행 > KB국민은행',\n",
       "  'distance': '',\n",
       "  'id': '17607989',\n",
       "  'phone': '1599-9999',\n",
       "  'place_name': 'KB국민은행 연산동종합금융센터',\n",
       "  'place_url': 'http://place.map.kakao.com/17607989',\n",
       "  'road_address_name': '부산 연제구 중앙대로 1089',\n",
       "  'x': '129.080541081016',\n",
       "  'y': '35.1851874575415'},\n",
       " {'address_name': '경기 평택시 서정동 814',\n",
       "  'category_group_code': 'BK9',\n",
       "  'category_group_name': '은행',\n",
       "  'category_name': '금융,보험 > 금융서비스 > 은행 > 신한은행',\n",
       "  'distance': '',\n",
       "  'id': '17695536',\n",
       "  'phone': '031-662-9178',\n",
       "  'place_name': '신한은행 송탄금융센터',\n",
       "  'place_url': 'http://place.map.kakao.com/17695536',\n",
       "  'road_address_name': '경기 평택시 경기대로 1375',\n",
       "  'x': '127.063778568508',\n",
       "  'y': '37.0677028125589'},\n",
       " {'address_name': '서울 마포구 상암동 1605',\n",
       "  'category_group_code': 'BK9',\n",
       "  'category_group_name': '은행',\n",
       "  'category_name': '금융,보험 > 금융서비스 > 은행 > 우리은행',\n",
       "  'distance': '',\n",
       "  'id': '14920153',\n",
       "  'phone': '02-374-9911',\n",
       "  'place_name': '우리은행 상암DMC금융센터',\n",
       "  'place_url': 'http://place.map.kakao.com/14920153',\n",
       "  'road_address_name': '서울 마포구 월드컵북로 396',\n",
       "  'x': '126.88942135174955',\n",
       "  'y': '37.57943602295691'},\n",
       " {'address_name': '경기 수원시 권선구 권선동 1023-1',\n",
       "  'category_group_code': 'BK9',\n",
       "  'category_group_name': '은행',\n",
       "  'category_name': '금융,보험 > 금융서비스 > 은행 > 신한은행',\n",
       "  'distance': '',\n",
       "  'id': '10610073',\n",
       "  'phone': '031-233-5091',\n",
       "  'place_name': '신한은행 수원시청역지점',\n",
       "  'place_url': 'http://place.map.kakao.com/10610073',\n",
       "  'road_address_name': '경기 수원시 권선구 권광로 149',\n",
       "  'x': '127.0312604150002',\n",
       "  'y': '37.26106111559214'},\n",
       " {'address_name': '대구 중구 봉산동 34-16',\n",
       "  'category_group_code': 'BK9',\n",
       "  'category_group_name': '은행',\n",
       "  'category_name': '금융,보험 > 금융서비스 > 은행 > 신한은행',\n",
       "  'distance': '',\n",
       "  'id': '27445599',\n",
       "  'phone': '053-426-6600',\n",
       "  'place_name': '신한은행 대구지점',\n",
       "  'place_url': 'http://place.map.kakao.com/27445599',\n",
       "  'road_address_name': '대구 중구 달구벌대로 2125',\n",
       "  'x': '128.596174397897',\n",
       "  'y': '35.8653058342851'},\n",
       " {'address_name': '서울 마포구 상암동 1653',\n",
       "  'category_group_code': 'BK9',\n",
       "  'category_group_name': '은행',\n",
       "  'category_name': '금융,보험 > 금융서비스 > 은행 > 신한은행',\n",
       "  'distance': '',\n",
       "  'id': '17695476',\n",
       "  'phone': '02-6393-2000',\n",
       "  'place_name': '신한은행 상암동금융센터',\n",
       "  'place_url': 'http://place.map.kakao.com/17695476',\n",
       "  'road_address_name': '서울 마포구 월드컵북로 361',\n",
       "  'x': '126.891924526147',\n",
       "  'y': '37.5770101630921'},\n",
       " {'address_name': '제주특별자치도 제주시 이도일동 1689-9',\n",
       "  'category_group_code': 'BK9',\n",
       "  'category_group_name': '은행',\n",
       "  'category_name': '금융,보험 > 금융서비스 > 은행 > 신한은행',\n",
       "  'distance': '',\n",
       "  'id': '10067516',\n",
       "  'phone': '064-752-5500',\n",
       "  'place_name': '신한은행 제주지점',\n",
       "  'place_url': 'http://place.map.kakao.com/10067516',\n",
       "  'road_address_name': '제주특별자치도 제주시 중앙로 166',\n",
       "  'x': '126.52643523497754',\n",
       "  'y': '33.50403140422763'},\n",
       " {'address_name': '경기 하남시 망월동 1134-2',\n",
       "  'category_group_code': 'BK9',\n",
       "  'category_group_name': '은행',\n",
       "  'category_name': '금융,보험 > 금융서비스 > 은행 > 신한은행',\n",
       "  'distance': '',\n",
       "  'id': '12323914',\n",
       "  'phone': '031-794-1361',\n",
       "  'place_name': '신한은행 미사금융센터',\n",
       "  'place_url': 'http://place.map.kakao.com/12323914',\n",
       "  'road_address_name': '경기 하남시 미사강변동로 70',\n",
       "  'x': '127.19404413160026',\n",
       "  'y': '37.56134539034583'},\n",
       " {'address_name': '경기 수원시 팔달구 인계동 1018',\n",
       "  'category_group_code': 'BK9',\n",
       "  'category_group_name': '은행',\n",
       "  'category_name': '금융,보험 > 금융서비스 > 은행 > 신한은행',\n",
       "  'distance': '',\n",
       "  'id': '10607035',\n",
       "  'phone': '031-235-0350',\n",
       "  'place_name': '신한은행 수원중앙지점',\n",
       "  'place_url': 'http://place.map.kakao.com/10607035',\n",
       "  'road_address_name': '경기 수원시 팔달구 경수대로 472',\n",
       "  'x': '127.027576646977',\n",
       "  'y': '37.2680505131113'},\n",
       " {'address_name': '경기 안양시 만안구 안양동 674-233',\n",
       "  'category_group_code': 'BK9',\n",
       "  'category_group_name': '은행',\n",
       "  'category_name': '금융,보험 > 금융서비스 > 은행 > 신한은행',\n",
       "  'distance': '',\n",
       "  'id': '7976536',\n",
       "  'phone': '031-449-4161',\n",
       "  'place_name': '신한은행 안양금융센터',\n",
       "  'place_url': 'http://place.map.kakao.com/7976536',\n",
       "  'road_address_name': '경기 안양시 만안구 안양로 290',\n",
       "  'x': '126.922136973632',\n",
       "  'y': '37.3983028432432'},\n",
       " {'address_name': '경기 평택시 평택동 34-3',\n",
       "  'category_group_code': 'BK9',\n",
       "  'category_group_name': '은행',\n",
       "  'category_name': '금융,보험 > 금융서비스 > 은행 > 신한은행',\n",
       "  'distance': '',\n",
       "  'id': '10608261',\n",
       "  'phone': '031-652-8020',\n",
       "  'place_name': '신한은행 평택금융센터',\n",
       "  'place_url': 'http://place.map.kakao.com/10608261',\n",
       "  'road_address_name': '경기 평택시 중앙로 52',\n",
       "  'x': '127.088961469369',\n",
       "  'y': '36.9943100661955'}]"
      ]
     },
     "execution_count": 8,
     "metadata": {},
     "output_type": "execute_result"
    }
   ],
   "source": [
    "res['documents']"
   ]
  },
  {
   "cell_type": "code",
   "execution_count": 9,
   "metadata": {},
   "outputs": [
    {
     "data": {
      "text/plain": [
       "{'is_end': True,\n",
       " 'pageable_count': 45,\n",
       " 'same_name': {'keyword': '은행', 'region': [], 'selected_region': ''},\n",
       " 'total_count': 42784}"
      ]
     },
     "execution_count": 9,
     "metadata": {},
     "output_type": "execute_result"
    }
   ],
   "source": [
    "res['meta']"
   ]
  },
  {
   "cell_type": "markdown",
   "metadata": {},
   "source": [
    "# 한계\n",
    "- 45페이지까지의 값밖에 받아올 수 없음"
   ]
  },
  {
   "cell_type": "code",
   "execution_count": 10,
   "metadata": {},
   "outputs": [
    {
     "name": "stdout",
     "output_type": "stream",
     "text": [
      "{'errorType': 'InvalidArgument', 'message': 'page is more than max'}\n"
     ]
    }
   ],
   "source": [
    "params = {\n",
    "    'query': '은행',\n",
    "    'page': 46\n",
    "}\n",
    "\n",
    "res = requests.get(url, params=params, headers=headers).json()\n",
    "\n",
    "print(res)"
   ]
  },
  {
   "cell_type": "markdown",
   "metadata": {},
   "source": [
    "---"
   ]
  },
  {
   "cell_type": "markdown",
   "metadata": {},
   "source": [
    "# 한계 극복"
   ]
  },
  {
   "cell_type": "markdown",
   "metadata": {},
   "source": [
    "# TinyDB"
   ]
  },
  {
   "cell_type": "code",
   "execution_count": 11,
   "metadata": {},
   "outputs": [],
   "source": [
    "from tinydb import TinyDB, Query\n",
    "\n",
    "db = TinyDB('db.json')"
   ]
  },
  {
   "cell_type": "markdown",
   "metadata": {},
   "source": [
    "# 분할 검색\n",
    "\n",
    "- 우리나라 지도를 위경도 0.25 단위의 작은 사각형으로 쪼개어 검색\n",
    "- 상세페이지에서 가격 긁어오기 https://place.map.kakao.com/main/v/9847579\n",
    "- IP 차단 피하기 위해 5초 대기\n",
    "- DB 저장\n",
    "  - place_name : 지점이름\n",
    "  - road_address_name: 전체 도로명 주소\n",
    "  - address_name : 전체 지번 주소\n",
    "  - x : X 좌표 혹은 경도(longitude)\n",
    "  - y : Y 좌표 혹은 위도(latitude)\n",
    "  - category_name"
   ]
  },
  {
   "cell_type": "code",
   "execution_count": 12,
   "metadata": {},
   "outputs": [
    {
     "data": {
      "text/plain": [
       "<sqlite3.Cursor at 0x7f8fb0a69730>"
      ]
     },
     "execution_count": 12,
     "metadata": {},
     "output_type": "execute_result"
    }
   ],
   "source": [
    "import sqlite3\n",
    "\n",
    "DB_FILENAME = \"bank.db\"\n",
    "conn = sqlite3.connect(DB_FILENAME)\n",
    "cur = conn.cursor()\n",
    "\n",
    "# 테이블 만들기\n",
    "cur.execute(\"DROP TABLE IF EXISTS bank_info\")\n",
    "cur.execute(f\"\"\"CREATE TABLE bank_info(\n",
    "                address_name VARCHAR,\n",
    "                category_name VARCHAR,\n",
    "                place_name VARCHAR,\n",
    "                road_address_name VARCHAR,\n",
    "                x VARCHAR,\n",
    "                y VARCHAR\n",
    "                );\"\"\")\n"
   ]
  },
  {
   "cell_type": "code",
   "execution_count": 13,
   "metadata": {
    "scrolled": true
   },
   "outputs": [
    {
     "name": "stderr",
     "output_type": "stream",
     "text": [
      "  0%|          | 0/18 [00:00<?, ?it/s]"
     ]
    },
    {
     "name": "stdout",
     "output_type": "stream",
     "text": [
      "126.0 33.0\n",
      "126.0 33.25\n",
      "126.0 33.5\n",
      "126.0 33.75\n",
      "126.0 34.0\n",
      "126.0 34.25\n",
      "126.0 34.5\n",
      "126.0 34.75\n",
      "126.0 35.0\n",
      "126.0 35.25\n",
      "126.0 35.5\n",
      "126.0 35.75\n",
      "126.0 36.0\n",
      "126.0 36.25\n",
      "126.0 36.5\n",
      "126.0 36.75\n",
      "126.0 37.0\n",
      "126.0 37.25\n",
      "126.0 37.5\n",
      "126.0 37.75\n",
      "126.0 38.0\n",
      "126.0 38.25\n",
      "126.0 38.5\n",
      "126.0 38.75\n",
      "126.0 39.0\n"
     ]
    },
    {
     "name": "stderr",
     "output_type": "stream",
     "text": [
      "  6%|▌         | 1/18 [03:12<54:34, 192.61s/it]"
     ]
    },
    {
     "name": "stdout",
     "output_type": "stream",
     "text": [
      "126.0 39.25\n",
      "126.25 33.0\n"
     ]
    },
    {
     "name": "stderr",
     "output_type": "stream",
     "text": [
      "  6%|▌         | 1/18 [04:27<1:15:52, 267.77s/it]\n"
     ]
    },
    {
     "ename": "TypeError",
     "evalue": "can only concatenate str (not \"float\") to str",
     "output_type": "error",
     "traceback": [
      "\u001b[0;31m---------------------------------------------------------------------------\u001b[0m",
      "\u001b[0;31mTypeError\u001b[0m                                 Traceback (most recent call last)",
      "\u001b[0;32m/var/folders/1t/rxp10v3j0nnd0d43_pk_942h0000gn/T/ipykernel_30171/1329500048.py\u001b[0m in \u001b[0;36m<module>\u001b[0;34m\u001b[0m\n\u001b[1;32m     15\u001b[0m                 \u001b[0;34m'query'\u001b[0m\u001b[0;34m:\u001b[0m \u001b[0;34m'은행'\u001b[0m\u001b[0;34m,\u001b[0m\u001b[0;34m\u001b[0m\u001b[0;34m\u001b[0m\u001b[0m\n\u001b[1;32m     16\u001b[0m                 \u001b[0;34m'page'\u001b[0m\u001b[0;34m:\u001b[0m \u001b[0mpage\u001b[0m\u001b[0;34m,\u001b[0m\u001b[0;34m\u001b[0m\u001b[0;34m\u001b[0m\u001b[0m\n\u001b[0;32m---> 17\u001b[0;31m                 \u001b[0;34m'rect'\u001b[0m\u001b[0;34m:\u001b[0m \u001b[0;34mf'{x},{y},{x + dx},{y + dy}'\u001b[0m\u001b[0;34m\u001b[0m\u001b[0;34m\u001b[0m\u001b[0m\n\u001b[0m\u001b[1;32m     18\u001b[0m             }\n\u001b[1;32m     19\u001b[0m \u001b[0;34m\u001b[0m\u001b[0m\n",
      "\u001b[0;31mTypeError\u001b[0m: can only concatenate str (not \"float\") to str"
     ]
    }
   ],
   "source": [
    "start_x = 126 # 126.0 - 130.0\n",
    "start_y = 33 # 33.0 - 39.0\n",
    "\n",
    "dx = 0.25\n",
    "dy = 0.25\n",
    "\n",
    "for i in tqdm(range(18)):\n",
    "    for j in range(26):\n",
    "        x = start_x + dx * i\n",
    "        y = start_y + dy * j\n",
    "        print(x, y)\n",
    "\n",
    "        for page in range(1, 46):\n",
    "            params = {\n",
    "                'query': '은행',\n",
    "                'page': page,\n",
    "                'rect': f'{x},{y},{x + dx},{y + dy}'\n",
    "            }\n",
    "\n",
    "            res = requests.get(url, params=params, headers=headers).json()\n",
    "\n",
    "            if len(res['documents']) == 0:\n",
    "                break\n",
    "\n",
    "            for doc in res['documents']:\n",
    "                address_name = doc['address_name']\n",
    "                category_name = doc['category_name']\n",
    "                place_name = doc['place_name']\n",
    "                road_address_name = doc['road_address_name']\n",
    "                x = doc['x']\n",
    "                y = doc['y']\n",
    "\n",
    "                cur.execute(f\"\"\"INSERT INTO bank_info(address_name, category_name, place_name, road_address_name, x, y) VALUES('{address_name}', '{category_name}', '{place_name}', '{road_address_name}', '{x}', '{y}');\"\"\")\n",
    "                conn.commit()\n",
    "                time.sleep(5)\n",
    "\n",
    "            if res['meta']['is_end']:\n",
    "                break"
   ]
  },
  {
   "cell_type": "markdown",
   "metadata": {},
   "source": [
    "# 저장된 결과 확인"
   ]
  }
 ],
 "metadata": {
  "kernelspec": {
   "display_name": "Python 3",
   "language": "python",
   "name": "python3"
  },
  "language_info": {
   "codemirror_mode": {
    "name": "ipython",
    "version": 3
   },
   "file_extension": ".py",
   "mimetype": "text/x-python",
   "name": "python",
   "nbconvert_exporter": "python",
   "pygments_lexer": "ipython3",
   "version": "3.9.7"
  }
 },
 "nbformat": 4,
 "nbformat_minor": 4
}
